{
 "cells": [
  {
   "cell_type": "code",
   "execution_count": 53,
   "id": "d7c3f761-9092-4b89-874c-ffc25947723c",
   "metadata": {},
   "outputs": [
    {
     "data": {
      "text/plain": [
       "0.5"
      ]
     },
     "execution_count": 53,
     "metadata": {},
     "output_type": "execute_result"
    }
   ],
   "source": [
    "1/2"
   ]
  },
  {
   "cell_type": "code",
   "execution_count": 54,
   "id": "f2772700-83fe-498d-aaeb-932424ff0398",
   "metadata": {},
   "outputs": [],
   "source": [
    "# the division always return the float number without round off"
   ]
  },
  {
   "cell_type": "code",
   "execution_count": 56,
   "id": "da217a04-396d-409a-ad5a-b0d212e2f0de",
   "metadata": {},
   "outputs": [
    {
     "data": {
      "text/plain": [
       "0.6666666666666666"
      ]
     },
     "execution_count": 56,
     "metadata": {},
     "output_type": "execute_result"
    }
   ],
   "source": [
    "2/3"
   ]
  },
  {
   "cell_type": "code",
   "execution_count": 57,
   "id": "45d9fdbf-8998-40a3-bf63-a3419b6cf173",
   "metadata": {},
   "outputs": [],
   "source": [
    "# rise 2 to the power of 4"
   ]
  },
  {
   "cell_type": "code",
   "execution_count": 55,
   "id": "1e031953-89b1-4cba-9fc3-e2b95740a300",
   "metadata": {},
   "outputs": [
    {
     "data": {
      "text/plain": [
       "16"
      ]
     },
     "execution_count": 55,
     "metadata": {},
     "output_type": "execute_result"
    }
   ],
   "source": [
    "2**4\n"
   ]
  },
  {
   "cell_type": "code",
   "execution_count": 58,
   "id": "ba14bbb4-10d8-4669-b6c8-d646dfd07fd0",
   "metadata": {},
   "outputs": [
    {
     "data": {
      "text/plain": [
       "65536"
      ]
     },
     "execution_count": 58,
     "metadata": {},
     "output_type": "execute_result"
    }
   ],
   "source": [
    "2**16"
   ]
  },
  {
   "cell_type": "code",
   "execution_count": 59,
   "id": "23c12138-47da-4f30-8586-9afac407fa9c",
   "metadata": {},
   "outputs": [],
   "source": [
    "# mod(4,2)"
   ]
  },
  {
   "cell_type": "code",
   "execution_count": 5,
   "id": "fd3d3678-8bf5-41db-b9d9-5f076feea9e0",
   "metadata": {},
   "outputs": [
    {
     "data": {
      "text/plain": [
       "0"
      ]
     },
     "execution_count": 5,
     "metadata": {},
     "output_type": "execute_result"
    }
   ],
   "source": [
    "4 % 2"
   ]
  },
  {
   "cell_type": "code",
   "execution_count": 61,
   "id": "1e45dadf-ce87-45b1-91ba-f79cda52dadb",
   "metadata": {},
   "outputs": [
    {
     "data": {
      "text/plain": [
       "1"
      ]
     },
     "execution_count": 61,
     "metadata": {},
     "output_type": "execute_result"
    }
   ],
   "source": [
    "5 % 2"
   ]
  },
  {
   "cell_type": "code",
   "execution_count": 62,
   "id": "4b2383ee-983b-4d03-b73e-b29f5d6f89e9",
   "metadata": {},
   "outputs": [],
   "source": [
    "# assign value to variable"
   ]
  },
  {
   "cell_type": "code",
   "execution_count": 8,
   "id": "835b211f-1636-45c1-a277-6d07b4bb3f09",
   "metadata": {},
   "outputs": [],
   "source": [
    "i = 3"
   ]
  },
  {
   "cell_type": "code",
   "execution_count": 9,
   "id": "4704264c-8d95-48e4-9414-766b2aa3de2f",
   "metadata": {},
   "outputs": [
    {
     "data": {
      "text/plain": [
       "6"
      ]
     },
     "execution_count": 9,
     "metadata": {},
     "output_type": "execute_result"
    }
   ],
   "source": [
    "2*i"
   ]
  },
  {
   "cell_type": "code",
   "execution_count": 10,
   "id": "83614590-ad33-4986-b5c3-746b1c8aaea7",
   "metadata": {},
   "outputs": [],
   "source": [
    "y = 2 * i"
   ]
  },
  {
   "cell_type": "code",
   "execution_count": 63,
   "id": "e4838c3c-4230-4177-a3e3-8413d0e1b462",
   "metadata": {},
   "outputs": [
    {
     "name": "stdout",
     "output_type": "stream",
     "text": [
      "6\n"
     ]
    }
   ],
   "source": [
    "print (y)"
   ]
  },
  {
   "cell_type": "code",
   "execution_count": 64,
   "id": "f3f090dd-5100-4b37-a533-d15662af5f6f",
   "metadata": {},
   "outputs": [],
   "source": [
    "# import math for sin and cos function"
   ]
  },
  {
   "cell_type": "code",
   "execution_count": 12,
   "id": "512b0006-e91b-44f1-95a6-f809c9061f41",
   "metadata": {},
   "outputs": [],
   "source": [
    "import math"
   ]
  },
  {
   "cell_type": "code",
   "execution_count": 13,
   "id": "d9fc29b6-c9a4-4cd4-a2ba-2364978f25d4",
   "metadata": {},
   "outputs": [
    {
     "data": {
      "text/plain": [
       "0.0015926529164868282"
      ]
     },
     "execution_count": 13,
     "metadata": {},
     "output_type": "execute_result"
    }
   ],
   "source": [
    "math.sin(3.14)"
   ]
  },
  {
   "cell_type": "code",
   "execution_count": 14,
   "id": "367c3dae-177d-4058-ac0c-67f9e1dbe85d",
   "metadata": {},
   "outputs": [
    {
     "data": {
      "text/plain": [
       "1.0"
      ]
     },
     "execution_count": 14,
     "metadata": {},
     "output_type": "execute_result"
    }
   ],
   "source": [
    "math.cos(0)"
   ]
  },
  {
   "cell_type": "code",
   "execution_count": 65,
   "id": "a83eb527-01d7-4fcd-9da4-3c02895f036b",
   "metadata": {},
   "outputs": [],
   "source": [
    "# string.\n",
    "# If there is a \"'\" inside the string, you need a double quote \" to quote the whole string"
   ]
  },
  {
   "cell_type": "code",
   "execution_count": 16,
   "id": "8f4e4e37-0471-480d-acb7-a4b348f00197",
   "metadata": {},
   "outputs": [
    {
     "name": "stdout",
     "output_type": "stream",
     "text": [
      "I can't go\n"
     ]
    }
   ],
   "source": [
    "print(\"I can't go\")"
   ]
  },
  {
   "cell_type": "code",
   "execution_count": 17,
   "id": "d2d98703-17a3-4557-b6d8-d4b2a1e7dd7f",
   "metadata": {},
   "outputs": [],
   "source": [
    "x = 'hello'"
   ]
  },
  {
   "cell_type": "code",
   "execution_count": 18,
   "id": "54709ebb-6203-4812-b8c2-2dc9e9653daf",
   "metadata": {},
   "outputs": [
    {
     "data": {
      "text/plain": [
       "'hello'"
      ]
     },
     "execution_count": 18,
     "metadata": {},
     "output_type": "execute_result"
    }
   ],
   "source": [
    "x"
   ]
  },
  {
   "cell_type": "code",
   "execution_count": 19,
   "id": "cc8d7004-1646-4c97-8a0c-a912d80ce559",
   "metadata": {},
   "outputs": [
    {
     "name": "stdout",
     "output_type": "stream",
     "text": [
      "hello\n"
     ]
    }
   ],
   "source": [
    "print(x)"
   ]
  },
  {
   "cell_type": "code",
   "execution_count": 66,
   "id": "5cc9993c-ce1a-4bc9-bddf-8fdb412ef6f7",
   "metadata": {},
   "outputs": [],
   "source": [
    "num = 12\n",
    "name = 'Sam'"
   ]
  },
  {
   "cell_type": "code",
   "execution_count": 68,
   "id": "ef9b53e8-0321-49cc-96a7-0727c224859d",
   "metadata": {},
   "outputs": [],
   "source": [
    "# \"{}\" is a placeholder inside a string, its values will be ultimately determined by the paramenters in the \"format\" function in the order it appear"
   ]
  },
  {
   "cell_type": "code",
   "execution_count": 21,
   "id": "2cb732ad-af70-4c68-999d-393e61a5ceeb",
   "metadata": {},
   "outputs": [
    {
     "data": {
      "text/plain": [
       "'Number is 12 and name is Sam'"
      ]
     },
     "execution_count": 21,
     "metadata": {},
     "output_type": "execute_result"
    }
   ],
   "source": [
    "'Number is {} and name is {}'.format(num, name)"
   ]
  },
  {
   "cell_type": "code",
   "execution_count": 70,
   "id": "1355b2fd-b014-413c-ac16-b85e73bc5593",
   "metadata": {},
   "outputs": [
    {
     "data": {
      "text/plain": [
       "'Number is Sam and name is 12'"
      ]
     },
     "execution_count": 70,
     "metadata": {},
     "output_type": "execute_result"
    }
   ],
   "source": [
    "'Number is {} and name is {}'.format(name, num)"
   ]
  },
  {
   "cell_type": "code",
   "execution_count": 71,
   "id": "3862bd32-a958-4728-9f11-48d2d2ebb5e7",
   "metadata": {},
   "outputs": [],
   "source": [
    "# or you can specific the position (\"first\" and \"second\" below) with the corresponding values"
   ]
  },
  {
   "cell_type": "code",
   "execution_count": 23,
   "id": "70a92aff-a61b-431e-91f6-85dc27b45ffe",
   "metadata": {},
   "outputs": [
    {
     "name": "stdout",
     "output_type": "stream",
     "text": [
      "Number is 12 and the name is Sam\n"
     ]
    }
   ],
   "source": [
    "ot = 'Number is {first} and the name is {second}'.format(second=name, first=num)\n",
    "print(ot)"
   ]
  },
  {
   "cell_type": "code",
   "execution_count": 24,
   "id": "74d63108-4432-482f-9677-0e20294b0f70",
   "metadata": {},
   "outputs": [],
   "source": [
    "aSimpleString = 'hello'\n"
   ]
  },
  {
   "cell_type": "code",
   "execution_count": 26,
   "id": "1a6410af-6b95-4b3c-a546-67bca3db2867",
   "metadata": {},
   "outputs": [
    {
     "data": {
      "text/plain": [
       "'h'"
      ]
     },
     "execution_count": 26,
     "metadata": {},
     "output_type": "execute_result"
    }
   ],
   "source": [
    "aSimpleString[0]"
   ]
  },
  {
   "cell_type": "code",
   "execution_count": 27,
   "id": "83b83aec-6abc-4837-a64e-9e5ab0c78bd3",
   "metadata": {},
   "outputs": [
    {
     "data": {
      "text/plain": [
       "'e'"
      ]
     },
     "execution_count": 27,
     "metadata": {},
     "output_type": "execute_result"
    }
   ],
   "source": [
    "aSimpleString[1]"
   ]
  },
  {
   "cell_type": "code",
   "execution_count": 28,
   "id": "3484a7bd-a7b1-43a7-ae79-1c93d0efe564",
   "metadata": {},
   "outputs": [],
   "source": [
    "# start access the string at certain position and beyond\n"
   ]
  },
  {
   "cell_type": "code",
   "execution_count": 29,
   "id": "1d09f18a-317c-4e6e-b2f8-cd3050069e87",
   "metadata": {},
   "outputs": [
    {
     "data": {
      "text/plain": [
       "'ello'"
      ]
     },
     "execution_count": 29,
     "metadata": {},
     "output_type": "execute_result"
    }
   ],
   "source": [
    "aSimpleString[1:]"
   ]
  },
  {
   "cell_type": "code",
   "execution_count": 32,
   "id": "f4ad236c-21b4-4075-b030-8f7d0cbb5580",
   "metadata": {},
   "outputs": [],
   "source": [
    "#start access the string from the beginning till (but not at) the position specfiied\n"
   ]
  },
  {
   "cell_type": "code",
   "execution_count": 31,
   "id": "f2fcce33-b5d3-4f55-a9d9-2adb125157ea",
   "metadata": {},
   "outputs": [
    {
     "data": {
      "text/plain": [
       "'hel'"
      ]
     },
     "execution_count": 31,
     "metadata": {},
     "output_type": "execute_result"
    }
   ],
   "source": [
    "aSimpleString[:3]"
   ]
  },
  {
   "cell_type": "code",
   "execution_count": 33,
   "id": "b7612af1-06d2-4387-a4b3-e02bbd4e6f8f",
   "metadata": {},
   "outputs": [
    {
     "data": {
      "text/plain": [
       "'el'"
      ]
     },
     "execution_count": 33,
     "metadata": {},
     "output_type": "execute_result"
    }
   ],
   "source": [
    "aSimpleString[1:3]"
   ]
  },
  {
   "cell_type": "code",
   "execution_count": 34,
   "id": "de78d9d0-df87-462b-b6f0-15d5027d170c",
   "metadata": {},
   "outputs": [],
   "source": [
    "# represent a list of data by using []"
   ]
  },
  {
   "cell_type": "code",
   "execution_count": 35,
   "id": "9bf340d8-4938-48fc-ba2b-c109bbe8d9db",
   "metadata": {},
   "outputs": [
    {
     "name": "stdout",
     "output_type": "stream",
     "text": [
      "[1, 2, 3]\n",
      "['a', 'b', 'c']\n",
      "[1, 'b', 3]\n"
     ]
    }
   ],
   "source": [
    "#exmaple\n",
    "numList = [1, 2, 3]\n",
    "charList = ['a', 'b', 'c']\n",
    "mixedList = [1, 'b', 3]\n",
    "print(numList)\n",
    "print(charList)\n",
    "print(mixedList)"
   ]
  },
  {
   "cell_type": "code",
   "execution_count": 36,
   "id": "c968e8cd-5256-40da-9d0f-03fe56c35451",
   "metadata": {},
   "outputs": [],
   "source": [
    "# add new element into the list"
   ]
  },
  {
   "cell_type": "code",
   "execution_count": 37,
   "id": "4246f832-e416-4974-8f6a-a95f83b02b87",
   "metadata": {},
   "outputs": [],
   "source": [
    "numList.append(-100)"
   ]
  },
  {
   "cell_type": "code",
   "execution_count": 38,
   "id": "35d870d3-179f-4449-98d1-9ce32b47c9f0",
   "metadata": {},
   "outputs": [
    {
     "name": "stdout",
     "output_type": "stream",
     "text": [
      "[1, 2, 3, -100]\n"
     ]
    }
   ],
   "source": [
    "print(numList)"
   ]
  },
  {
   "cell_type": "code",
   "execution_count": 39,
   "id": "9b3448d1-49f4-4b7f-887a-f5fa345c04d6",
   "metadata": {},
   "outputs": [
    {
     "name": "stdout",
     "output_type": "stream",
     "text": [
      "[2, 3, -100]\n"
     ]
    }
   ],
   "source": [
    "print(numList[1:])"
   ]
  },
  {
   "cell_type": "code",
   "execution_count": 40,
   "id": "01bc9fab-95b6-4d68-a948-0e6ff9e54453",
   "metadata": {},
   "outputs": [],
   "source": [
    "# assign new value to exising slot\n"
   ]
  },
  {
   "cell_type": "code",
   "execution_count": 41,
   "id": "09855d2a-5a6b-45b6-a943-79d559c8d4ac",
   "metadata": {},
   "outputs": [],
   "source": [
    "numList[0] = -1000"
   ]
  },
  {
   "cell_type": "code",
   "execution_count": 42,
   "id": "795b24bb-c2f4-4c22-8ced-e472925cdd85",
   "metadata": {},
   "outputs": [
    {
     "name": "stdout",
     "output_type": "stream",
     "text": [
      "[-1000, 2, 3, -100]\n"
     ]
    }
   ],
   "source": [
    "print(numList)"
   ]
  },
  {
   "cell_type": "code",
   "execution_count": 43,
   "id": "955dec34-f3bd-4c08-838d-eb9cd42fe51f",
   "metadata": {},
   "outputs": [],
   "source": [
    "# nested a list inside another list"
   ]
  },
  {
   "cell_type": "code",
   "execution_count": 44,
   "id": "e8a97f64-bc5f-4418-af22-c337eabe3a26",
   "metadata": {},
   "outputs": [],
   "source": [
    "numList.append(mixedList)"
   ]
  },
  {
   "cell_type": "code",
   "execution_count": 45,
   "id": "cb1d7477-e55d-43d3-99ee-c09b2b02d56f",
   "metadata": {},
   "outputs": [
    {
     "name": "stdout",
     "output_type": "stream",
     "text": [
      "[-1000, 2, 3, -100, [1, 'b', 3]]\n"
     ]
    }
   ],
   "source": [
    "print(numList)"
   ]
  },
  {
   "cell_type": "code",
   "execution_count": 46,
   "id": "c0c682fd-d2bc-427e-aa32-623c44357e3e",
   "metadata": {},
   "outputs": [],
   "source": [
    "#now we change the mixedList to see if any corresponding changes also happen in the nested list"
   ]
  },
  {
   "cell_type": "code",
   "execution_count": 47,
   "id": "04c0a26c-fe91-4467-8340-b7a0a7cbca87",
   "metadata": {},
   "outputs": [],
   "source": [
    "mixedList[0] = 'Happy'"
   ]
  },
  {
   "cell_type": "code",
   "execution_count": 48,
   "id": "6d20f8af-3f11-491b-8e07-2631cbe1d00e",
   "metadata": {},
   "outputs": [
    {
     "name": "stdout",
     "output_type": "stream",
     "text": [
      "[-1000, 2, 3, -100, ['Happy', 'b', 3]]\n"
     ]
    }
   ],
   "source": [
    "print(numList)"
   ]
  },
  {
   "cell_type": "code",
   "execution_count": 49,
   "id": "7d58dbc0-43d4-4e40-9990-7b6f6fa55840",
   "metadata": {},
   "outputs": [
    {
     "name": "stdout",
     "output_type": "stream",
     "text": [
      "['Happy', 'b', 3]\n"
     ]
    }
   ],
   "source": [
    "print(mixedList)"
   ]
  },
  {
   "cell_type": "code",
   "execution_count": 50,
   "id": "8532f622-0312-4fdd-b529-dda3efc33efb",
   "metadata": {},
   "outputs": [],
   "source": [
    "#yes, the changes also reflect in the nested one"
   ]
  },
  {
   "cell_type": "code",
   "execution_count": 52,
   "id": "03bc875a-ea81-4813-b577-34a19b601dd6",
   "metadata": {},
   "outputs": [
    {
     "name": "stdout",
     "output_type": "stream",
     "text": [
      "Happy\n",
      "b\n",
      "3\n"
     ]
    }
   ],
   "source": [
    "# to identfy the nested element from the parent list, you need 2 index\n",
    "print(numList[4][0])\n",
    "print(numList[4][1])\n",
    "print(numList[4][2])"
   ]
  },
  {
   "cell_type": "code",
   "execution_count": null,
   "id": "efa5a73f-1544-4681-a632-8ac785caaa20",
   "metadata": {},
   "outputs": [],
   "source": []
  }
 ],
 "metadata": {
  "kernelspec": {
   "display_name": "Python 3 (ipykernel)",
   "language": "python",
   "name": "python3"
  },
  "language_info": {
   "codemirror_mode": {
    "name": "ipython",
    "version": 3
   },
   "file_extension": ".py",
   "mimetype": "text/x-python",
   "name": "python",
   "nbconvert_exporter": "python",
   "pygments_lexer": "ipython3",
   "version": "3.12.1"
  }
 },
 "nbformat": 4,
 "nbformat_minor": 5
}
