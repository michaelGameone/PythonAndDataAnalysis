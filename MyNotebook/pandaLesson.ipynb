{
 "cells": [
  {
   "cell_type": "code",
   "execution_count": 1,
   "id": "12dd440f-f941-493d-8458-0c30c7882faf",
   "metadata": {},
   "outputs": [],
   "source": [
    "import pandas as pd"
   ]
  },
  {
   "cell_type": "code",
   "execution_count": 2,
   "id": "d439a63a-cc19-4ff0-ab1c-cbe2a1f58853",
   "metadata": {},
   "outputs": [],
   "source": [
    "import numpy as np"
   ]
  },
  {
   "cell_type": "code",
   "execution_count": 6,
   "id": "18b1247e-74ac-4668-b7ff-76e22a1a8c7f",
   "metadata": {},
   "outputs": [
    {
     "data": {
      "text/plain": [
       "cat             meow meow\n",
       "dog             bark bark\n",
       "dog     human best friend\n",
       "bird        pair of wings\n",
       "cat               9 lives\n",
       "dtype: object"
      ]
     },
     "execution_count": 6,
     "metadata": {},
     "output_type": "execute_result"
    }
   ],
   "source": [
    "label = ['cat', 'dog', 'dog', 'bird', 'cat']\n",
    "animal = ['meow meow', 'bark bark', 'human best friend', 'pair of wings', '9 lives']\n",
    "link = pd.Series(data=animal, index=label);\n",
    "link"
   ]
  },
  {
   "cell_type": "code",
   "execution_count": 9,
   "id": "45e54910-d480-4b54-839d-7363ffc0a41e",
   "metadata": {},
   "outputs": [
    {
     "data": {
      "text/plain": [
       "cat             meow meow\n",
       "dog             bark bark\n",
       "dog     human best friend\n",
       "bird        pair of wings\n",
       "cat               9 lives\n",
       "dtype: object"
      ]
     },
     "execution_count": 9,
     "metadata": {},
     "output_type": "execute_result"
    }
   ],
   "source": [
    "# pass in two python list, one is the data list, another is the index\n",
    "link1 = pd.Series(animal, label)\n",
    "link1"
   ]
  },
  {
   "cell_type": "code",
   "execution_count": 10,
   "id": "63bc7469-7a2a-4083-a36b-c2ee653bfd92",
   "metadata": {},
   "outputs": [
    {
     "data": {
      "text/plain": [
       "0            meow meow\n",
       "1            bark bark\n",
       "2    human best friend\n",
       "3        pair of wings\n",
       "4              9 lives\n",
       "dtype: object"
      ]
     },
     "execution_count": 10,
     "metadata": {},
     "output_type": "execute_result"
    }
   ],
   "source": [
    "# pass in the numpy array\n",
    "npArr = np.array(animal)\n",
    "pd.Series(npArr)"
   ]
  },
  {
   "cell_type": "code",
   "execution_count": 11,
   "id": "e812c0f2-7d1d-47d7-82cf-1bc91fd28bc4",
   "metadata": {},
   "outputs": [
    {
     "data": {
      "text/plain": [
       "cat             meow meow\n",
       "dog             bark bark\n",
       "dog     human best friend\n",
       "bird        pair of wings\n",
       "cat               9 lives\n",
       "dtype: object"
      ]
     },
     "execution_count": 11,
     "metadata": {},
     "output_type": "execute_result"
    }
   ],
   "source": [
    "pd.Series(npArr, label)"
   ]
  },
  {
   "cell_type": "code",
   "execution_count": 13,
   "id": "d97227d3-4f36-4278-968f-89fca2edfb6c",
   "metadata": {},
   "outputs": [
    {
     "data": {
      "text/plain": [
       "cat     immortal\n",
       "dog        loyal\n",
       "bird       wings\n",
       "dtype: object"
      ]
     },
     "execution_count": 13,
     "metadata": {},
     "output_type": "execute_result"
    }
   ],
   "source": [
    "# pass in the dictionary too (# but dictionary won't allow duplicated key)\n",
    "dic = { \"cat\":\"meow\", \"dog\":\"bark\", \"dog\":\"loyal\", \"bird\":\"wings\", \"cat\":\"immortal\"}\n",
    "pd.Series(dic) "
   ]
  },
  {
   "cell_type": "code",
   "execution_count": 14,
   "id": "20487612-c9ad-4b4c-b185-47b4c36d7b32",
   "metadata": {},
   "outputs": [],
   "source": [
    "# retreive data from a series with label"
   ]
  },
  {
   "cell_type": "code",
   "execution_count": 15,
   "id": "b06c503f-f834-4cf9-b2fe-2edd11ec7f0f",
   "metadata": {},
   "outputs": [
    {
     "name": "stdout",
     "output_type": "stream",
     "text": [
      "Kate\n"
     ]
    }
   ],
   "source": [
    "series1 = pd.Series(['John', 'Mary', 'Kate'], [1,2,3])\n",
    "print(series1[3])"
   ]
  },
  {
   "cell_type": "code",
   "execution_count": 16,
   "id": "156436c7-b8d8-4138-8c14-fec9be835ee0",
   "metadata": {},
   "outputs": [
    {
     "name": "stdout",
     "output_type": "stream",
     "text": [
      "2\n"
     ]
    }
   ],
   "source": [
    "series1 = pd.Series([1,2,3], ['John', 'Mary', 'Kate'])\n",
    "print(series1['Mary'])"
   ]
  },
  {
   "cell_type": "code",
   "execution_count": 17,
   "id": "f9d37257-92ec-4d46-9f73-751c39e562d4",
   "metadata": {},
   "outputs": [
    {
     "data": {
      "text/plain": [
       "0     NaN\n",
       "5     NaN\n",
       "8     NaN\n",
       "10    NaN\n",
       "10    NaN\n",
       "12    NaN\n",
       "38    NaN\n",
       "dtype: object"
      ]
     },
     "execution_count": 17,
     "metadata": {},
     "output_type": "execute_result"
    }
   ],
   "source": [
    "seriesA = pd.Series(['Apple', 'Banana', 'Pear'], [10,12,10] )\n",
    "seriesB = pd.Series(['Apple', 'Banana', 'Pear', 'Grape'], [5,0,8,38])\n",
    "seriesC = seriesA + seriesB\n",
    "seriesC # 2 series with different label for the same data just doesn't make sense"
   ]
  },
  {
   "cell_type": "code",
   "execution_count": 20,
   "id": "6b7bfb9d-1391-429a-a177-4594f08f9714",
   "metadata": {},
   "outputs": [
    {
     "data": {
      "text/plain": [
       "10      AppleApple\n",
       "10       ApplePear\n",
       "10       PearApple\n",
       "10        PearPear\n",
       "12    BananaBanana\n",
       "38             NaN\n",
       "dtype: object"
      ]
     },
     "execution_count": 20,
     "metadata": {},
     "output_type": "execute_result"
    }
   ],
   "source": [
    "seriesA = pd.Series(['Apple', 'Banana', 'Pear'], [10,12,10] )\n",
    "seriesB = pd.Series(['Apple', 'Banana', 'Pear', 'Grape'], [10,12,10,38])\n",
    "seriesC = seriesA + seriesB\n",
    "seriesC # merge the data with the same label, while the data only exist in one series will be \"NaN\""
   ]
  },
  {
   "cell_type": "code",
   "execution_count": 21,
   "id": "def4d46f-5ea9-4d2d-b218-cadef9293a73",
   "metadata": {},
   "outputs": [
    {
     "data": {
      "text/plain": [
       "Apple     18.0\n",
       "Banana    50.0\n",
       "Grape      NaN\n",
       "Pear      10.0\n",
       "dtype: float64"
      ]
     },
     "execution_count": 21,
     "metadata": {},
     "output_type": "execute_result"
    }
   ],
   "source": [
    "seriesA = pd.Series([2,32,0], ['Apple', 'Banana', 'Pear'])\n",
    "seriesB = pd.Series([16,18,10,38], ['Apple', 'Banana', 'Pear', 'Grape'])\n",
    "seriesC = seriesA + seriesB \n",
    "seriesC # merge the data (sum the qty) with the same label (i.e. 'Apple\", \"Banna\" ...etc.) , while the data only exist in one series will be \"NaN\""
   ]
  },
  {
   "cell_type": "code",
   "execution_count": null,
   "id": "feab3132-a75f-44ff-a053-234b1593104e",
   "metadata": {},
   "outputs": [],
   "source": []
  }
 ],
 "metadata": {
  "kernelspec": {
   "display_name": "Python 3 (ipykernel)",
   "language": "python",
   "name": "python3"
  },
  "language_info": {
   "codemirror_mode": {
    "name": "ipython",
    "version": 3
   },
   "file_extension": ".py",
   "mimetype": "text/x-python",
   "name": "python",
   "nbconvert_exporter": "python",
   "pygments_lexer": "ipython3",
   "version": "3.12.1"
  }
 },
 "nbformat": 4,
 "nbformat_minor": 5
}
