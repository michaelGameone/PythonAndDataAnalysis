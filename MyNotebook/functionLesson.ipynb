{
 "cells": [
  {
   "cell_type": "code",
   "execution_count": 5,
   "id": "6d90e121-3abd-4e06-be96-9dd644ec13cb",
   "metadata": {},
   "outputs": [],
   "source": [
    "# define a basic function\n"
   ]
  },
  {
   "cell_type": "code",
   "execution_count": 4,
   "id": "d20ec4a8-2901-480d-8197-ac63fc34c30e",
   "metadata": {},
   "outputs": [
    {
     "name": "stdout",
     "output_type": "stream",
     "text": [
      "33\n",
      "John\n"
     ]
    }
   ],
   "source": [
    "def myFunc(anyParm):\n",
    "    print(anyParm)\n",
    "\n",
    "myFunc(33)\n",
    "myFunc(\"John\")"
   ]
  },
  {
   "cell_type": "code",
   "execution_count": 6,
   "id": "804d10bd-b6d2-475a-8629-c8d5108283db",
   "metadata": {},
   "outputs": [],
   "source": [
    "# set default parameter if the caller hasn't throw in any parameters\n"
   ]
  },
  {
   "cell_type": "code",
   "execution_count": 8,
   "id": "569838ca-42a1-4cc8-b466-b45ad3e05d00",
   "metadata": {},
   "outputs": [
    {
     "name": "stdout",
     "output_type": "stream",
     "text": [
      "Hello John\n",
      "Hello Madam/Sir\n"
     ]
    }
   ],
   "source": [
    "def simpleFunc(msg=\"Madam/Sir\"):\n",
    "    print(\"Hello \" + msg)\n",
    "simpleFunc(\"John\")\n",
    "simpleFunc()"
   ]
  },
  {
   "cell_type": "code",
   "execution_count": 9,
   "id": "5b849375-a1db-4443-89af-965863ce23d0",
   "metadata": {},
   "outputs": [],
   "source": [
    "# refurn a value"
   ]
  },
  {
   "cell_type": "code",
   "execution_count": 12,
   "id": "59026466-be13-4ea9-83e5-dda187befeaa",
   "metadata": {},
   "outputs": [
    {
     "name": "stdout",
     "output_type": "stream",
     "text": [
      "9\n"
     ]
    }
   ],
   "source": [
    "def square(anyNum):\n",
    "    \"\"\"\n",
    "    \n",
    "    Do some explanation\n",
    "    about this function\n",
    "    and these text will be shown when using this function (shift + tab)\n",
    "    \"\"\"\n",
    "    return anyNum ** 2\n",
    "print(square(3))"
   ]
  },
  {
   "cell_type": "code",
   "execution_count": 15,
   "id": "84895d17-59e4-419c-a5fd-21a163372dfa",
   "metadata": {},
   "outputs": [],
   "source": [
    "# map function. It will compute each element in a list by a function and return a mao object as a result, which can be used as a parameters to construct a new list"
   ]
  },
  {
   "cell_type": "code",
   "execution_count": 16,
   "id": "7f5fcd57-dff2-4243-8cf6-cce8fc95d58a",
   "metadata": {},
   "outputs": [
    {
     "name": "stdout",
     "output_type": "stream",
     "text": [
      "[1, 4, 9, 16, 25, 36, 49, 64, 81, 100]\n"
     ]
    }
   ],
   "source": [
    "oldList = list(range(1, 11))\n",
    "newPowList = list(map(square, oldList))\n",
    "print(newPowList)"
   ]
  },
  {
   "cell_type": "code",
   "execution_count": 17,
   "id": "2a76cf5b-6df4-4ba1-be5e-f25b095e60cb",
   "metadata": {},
   "outputs": [],
   "source": [
    "anotherWay = [square(eachNum) for eachNum in oldList]"
   ]
  },
  {
   "cell_type": "code",
   "execution_count": 18,
   "id": "559c62bf-9805-4160-bd2d-ee751a2f3d16",
   "metadata": {},
   "outputs": [
    {
     "name": "stdout",
     "output_type": "stream",
     "text": [
      "[1, 4, 9, 16, 25, 36, 49, 64, 81, 100]\n"
     ]
    }
   ],
   "source": [
    "print(anotherWay)"
   ]
  },
  {
   "cell_type": "code",
   "execution_count": 19,
   "id": "b654bba0-48db-41f8-84a3-e841514c465c",
   "metadata": {},
   "outputs": [],
   "source": [
    "# lamda function"
   ]
  },
  {
   "cell_type": "code",
   "execution_count": 20,
   "id": "3546ec1f-4763-4aca-8657-8fb0bf6981b0",
   "metadata": {},
   "outputs": [
    {
     "name": "stdout",
     "output_type": "stream",
     "text": [
      "9\n"
     ]
    }
   ],
   "source": [
    "#define a lamda\n",
    "l = lambda parm: parm ** 2\n",
    "print(l(3))"
   ]
  },
  {
   "cell_type": "code",
   "execution_count": 25,
   "id": "f7a9b9f6-2198-4a68-a2b9-8001176486cc",
   "metadata": {},
   "outputs": [
    {
     "name": "stdout",
     "output_type": "stream",
     "text": [
      "[1, 4, 9, 16, 25, 36, 49, 64, 81, 100]\n"
     ]
    }
   ],
   "source": [
    "# or can used without assigning lambda function to any variable\n",
    "resultA = list(map(lambda anyNumber: anyNumber**2, oldList))\n",
    "print(resultA)"
   ]
  },
  {
   "cell_type": "code",
   "execution_count": 27,
   "id": "b23437e5-95b8-4503-ba98-ba5df86d0940",
   "metadata": {},
   "outputs": [
    {
     "name": "stdout",
     "output_type": "stream",
     "text": [
      "[8, 16, 24, 32, 40, 48, 56, 64, 72, 80]\n"
     ]
    }
   ],
   "source": [
    "# lambda function can \"capture\" the outside variable\n",
    "const = 8\n",
    "resultB = list(map(lambda anyNumber: anyNumber*const, oldList))\n",
    "print(resultB)"
   ]
  },
  {
   "cell_type": "code",
   "execution_count": 29,
   "id": "19b90c78-d17f-42cf-b646-6736161991e3",
   "metadata": {},
   "outputs": [],
   "source": [
    "# filter function, which can select which element is chosen based on certain condition\n"
   ]
  },
  {
   "cell_type": "code",
   "execution_count": 30,
   "id": "790f1824-a3f2-4400-9fc2-49160378736f",
   "metadata": {},
   "outputs": [
    {
     "name": "stdout",
     "output_type": "stream",
     "text": [
      "[2, 4, 6, 8, 10]\n"
     ]
    }
   ],
   "source": [
    "# select only the even number\n",
    "evenList = list(filter(lambda anyNum: anyNum%2 == 0, oldList))\n",
    "print(evenList)"
   ]
  },
  {
   "cell_type": "code",
   "execution_count": 33,
   "id": "03fd172f-512b-42b6-9e28-0dbdc007c896",
   "metadata": {},
   "outputs": [],
   "source": [
    "d = lambda x: 1 if x else 2"
   ]
  },
  {
   "cell_type": "code",
   "execution_count": 34,
   "id": "87acfd8b-320c-4507-8e20-a87260d3e88d",
   "metadata": {},
   "outputs": [
    {
     "data": {
      "text/plain": [
       "1"
      ]
     },
     "execution_count": 34,
     "metadata": {},
     "output_type": "execute_result"
    }
   ],
   "source": [
    "d(True)"
   ]
  },
  {
   "cell_type": "code",
   "execution_count": 35,
   "id": "f2f48a40-58ce-4484-8366-61069c0dff36",
   "metadata": {},
   "outputs": [
    {
     "data": {
      "text/plain": [
       "2"
      ]
     },
     "execution_count": 35,
     "metadata": {},
     "output_type": "execute_result"
    }
   ],
   "source": [
    "d(False)"
   ]
  },
  {
   "cell_type": "code",
   "execution_count": 36,
   "id": "627a1b0c-79ad-49f2-9142-4629b6540647",
   "metadata": {},
   "outputs": [],
   "source": [
    "# one line value assignment with conditions: which is equalivent to x = (some Condition)? valueIfYes : valueIfNo"
   ]
  },
  {
   "cell_type": "code",
   "execution_count": 38,
   "id": "9a560103-2512-4677-a213-854b5177a858",
   "metadata": {},
   "outputs": [
    {
     "name": "stdout",
     "output_type": "stream",
     "text": [
      "1\n"
     ]
    }
   ],
   "source": [
    "threstholdVolt = 10\n",
    "inputVolt = 11\n",
    "outputVolt = 1 if inputVolt > threstholdVolt else 0\n",
    "print(outputVolt)"
   ]
  },
  {
   "cell_type": "code",
   "execution_count": 39,
   "id": "07b86622-cd67-430b-a3dd-451a07789967",
   "metadata": {},
   "outputs": [],
   "source": [
    "# method of a object"
   ]
  },
  {
   "cell_type": "code",
   "execution_count": 40,
   "id": "503c4620-44e6-4aa0-a6b1-c8136a6d4334",
   "metadata": {},
   "outputs": [
    {
     "name": "stdout",
     "output_type": "stream",
     "text": [
      "hello\n"
     ]
    }
   ],
   "source": [
    "news = \"Hello\"\n",
    "print(news.lower())"
   ]
  },
  {
   "cell_type": "code",
   "execution_count": 41,
   "id": "d9b934dc-010f-4894-ae51-fe7d7a754c2f",
   "metadata": {},
   "outputs": [
    {
     "name": "stdout",
     "output_type": "stream",
     "text": [
      "HELLO\n"
     ]
    }
   ],
   "source": [
    "print(news.upper())"
   ]
  },
  {
   "cell_type": "code",
   "execution_count": 42,
   "id": "75f1ae9e-beb7-489c-b160-abaa71854b19",
   "metadata": {},
   "outputs": [],
   "source": [
    "news = \"Hello are you\""
   ]
  },
  {
   "cell_type": "code",
   "execution_count": 43,
   "id": "f32c3aaa-f1fe-47d4-b7be-40aacee8c389",
   "metadata": {},
   "outputs": [
    {
     "name": "stdout",
     "output_type": "stream",
     "text": [
      "['Hello', 'are', 'you']\n"
     ]
    }
   ],
   "source": [
    "print(news.split())"
   ]
  },
  {
   "cell_type": "code",
   "execution_count": 44,
   "id": "99e4a6a5-f01c-4347-8818-31644d2fae9e",
   "metadata": {},
   "outputs": [
    {
     "name": "stdout",
     "output_type": "stream",
     "text": [
      "['12', 'john', 'technical director', '30000']\n"
     ]
    }
   ],
   "source": [
    "# split the sentence with delimiter\n",
    "row = \"12,john,technical director,30000\"\n",
    "print(row.split(','))\n",
    "\n"
   ]
  },
  {
   "cell_type": "code",
   "execution_count": 45,
   "id": "644b3d23-4ab9-4425-9f07-8a938815f454",
   "metadata": {},
   "outputs": [],
   "source": [
    "# some useful function of dictionary"
   ]
  },
  {
   "cell_type": "code",
   "execution_count": 46,
   "id": "b960800b-56e7-4ef8-9034-04de30bb086f",
   "metadata": {},
   "outputs": [],
   "source": [
    "info = { \"name\":\"John\", \"age\":18 }"
   ]
  },
  {
   "cell_type": "code",
   "execution_count": 47,
   "id": "d8bfcb5a-8cd4-4378-b31e-2a2efbd4c8dd",
   "metadata": {},
   "outputs": [
    {
     "name": "stdout",
     "output_type": "stream",
     "text": [
      "['name', 'age']\n"
     ]
    }
   ],
   "source": [
    "print(list(info.keys()))"
   ]
  },
  {
   "cell_type": "code",
   "execution_count": 48,
   "id": "3f66c54b-6c20-4822-af16-0dcd50173ef7",
   "metadata": {},
   "outputs": [
    {
     "name": "stdout",
     "output_type": "stream",
     "text": [
      "['John', 18]\n"
     ]
    }
   ],
   "source": [
    "print(list(info.values()))"
   ]
  },
  {
   "cell_type": "code",
   "execution_count": 49,
   "id": "b81c4de6-5403-4238-be3e-6b9c8f5c8920",
   "metadata": {},
   "outputs": [],
   "source": [
    "# some useful function of a list"
   ]
  },
  {
   "cell_type": "code",
   "execution_count": 51,
   "id": "ae7be929-6d48-4feb-b43c-2f236707dd8c",
   "metadata": {},
   "outputs": [
    {
     "name": "stdout",
     "output_type": "stream",
     "text": [
      "3\n",
      "[1, 2]\n"
     ]
    }
   ],
   "source": [
    "ll = [1,2,3]\n",
    "g = ll.pop() # pop the last one in the list\n",
    "print(g)\n",
    "print(ll)"
   ]
  },
  {
   "cell_type": "code",
   "execution_count": 52,
   "id": "b12a9b62-7d31-4f6a-ae75-b894bd9098d6",
   "metadata": {},
   "outputs": [
    {
     "name": "stdout",
     "output_type": "stream",
     "text": [
      "[1, 2, 3, 4, 5, 6, 7, 8, 9, 10]\n"
     ]
    }
   ],
   "source": [
    "# or pop any specific element from a list by specifying a index\n",
    "ll = list(range(1,11))\n",
    "print(ll)"
   ]
  },
  {
   "cell_type": "code",
   "execution_count": 53,
   "id": "dbfb30eb-0766-4b8e-8627-a3fad93bac5d",
   "metadata": {},
   "outputs": [
    {
     "name": "stdout",
     "output_type": "stream",
     "text": [
      "[1, 3, 4, 5, 6, 7, 8, 9, 10]\n"
     ]
    }
   ],
   "source": [
    "ll.pop(1) # pop the element positined at index = 1 (i.e. 2)\n",
    "print(ll)"
   ]
  },
  {
   "cell_type": "code",
   "execution_count": 54,
   "id": "2706763e-f8ba-405b-9e08-3090bbe6a488",
   "metadata": {},
   "outputs": [
    {
     "name": "stdout",
     "output_type": "stream",
     "text": [
      "True\n"
     ]
    }
   ],
   "source": [
    "# check if a value inside a list\n",
    "print(3 in ll)"
   ]
  },
  {
   "cell_type": "code",
   "execution_count": 55,
   "id": "14a0202c-8aa1-4603-9cba-932c401e543f",
   "metadata": {},
   "outputs": [
    {
     "name": "stdout",
     "output_type": "stream",
     "text": [
      "False\n"
     ]
    }
   ],
   "source": [
    "print(2 in ll)"
   ]
  },
  {
   "cell_type": "code",
   "execution_count": 56,
   "id": "e610c963-301b-4139-a4c1-88351aa2a173",
   "metadata": {},
   "outputs": [],
   "source": [
    "# tuple unpacking\n"
   ]
  },
  {
   "cell_type": "code",
   "execution_count": 57,
   "id": "4dcebef6-1db1-46ee-a8dc-c2462a0b7873",
   "metadata": {},
   "outputs": [],
   "source": [
    "tl = [(2,3),(8,9),(6,8)]"
   ]
  },
  {
   "cell_type": "code",
   "execution_count": 59,
   "id": "01f0938e-61f1-4eca-89f2-6c1df8afde6c",
   "metadata": {},
   "outputs": [
    {
     "name": "stdout",
     "output_type": "stream",
     "text": [
      "3\n",
      "9\n",
      "8\n"
     ]
    }
   ],
   "source": [
    "for (x,y) in tl:\n",
    "    print(y)"
   ]
  },
  {
   "cell_type": "code",
   "execution_count": 60,
   "id": "992b0c75-484b-4d73-a060-aa58819e379f",
   "metadata": {},
   "outputs": [
    {
     "name": "stdout",
     "output_type": "stream",
     "text": [
      "3\n",
      "9\n",
      "8\n"
     ]
    }
   ],
   "source": [
    "for x,y in tl:\n",
    "    print(y)"
   ]
  }
 ],
 "metadata": {
  "kernelspec": {
   "display_name": "Python 3 (ipykernel)",
   "language": "python",
   "name": "python3"
  },
  "language_info": {
   "codemirror_mode": {
    "name": "ipython",
    "version": 3
   },
   "file_extension": ".py",
   "mimetype": "text/x-python",
   "name": "python",
   "nbconvert_exporter": "python",
   "pygments_lexer": "ipython3",
   "version": "3.12.1"
  }
 },
 "nbformat": 4,
 "nbformat_minor": 5
}
