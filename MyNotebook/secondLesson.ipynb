{
 "cells": [
  {
   "cell_type": "code",
   "execution_count": 2,
   "id": "4d763c27-79b8-413f-b922-d8e7543887a5",
   "metadata": {},
   "outputs": [],
   "source": [
    "# using dictionary with {} \n",
    "# the format similar to json"
   ]
  },
  {
   "cell_type": "code",
   "execution_count": 13,
   "id": "924ce864-4a7c-4016-bd76-2e1935764924",
   "metadata": {},
   "outputs": [],
   "source": [
    "employee1 = {'id': 38,'name':\"John\",'age':28,'position':\"Manager\"}"
   ]
  },
  {
   "cell_type": "code",
   "execution_count": 14,
   "id": "dfa6df8b-012d-46f9-a95a-bae6ca0e33ef",
   "metadata": {},
   "outputs": [
    {
     "name": "stdout",
     "output_type": "stream",
     "text": [
      "The name of the employee is John, who is working as Manager at the age of 28 with ID = 38\n"
     ]
    }
   ],
   "source": [
    "print('The name of the employee is {}, who is working as {} at the age of {} with ID = {}'.format(employee1['name'], employee1['position'], employee1['age'], employee1['id']))"
   ]
  },
  {
   "cell_type": "code",
   "execution_count": 12,
   "id": "d14f67ef-0e2f-4335-8863-aadba1e7a52d",
   "metadata": {},
   "outputs": [],
   "source": [
    "# a list can nested inside the dictionary. And the element inside a dictionary can be dictionary itself"
   ]
  },
  {
   "cell_type": "code",
   "execution_count": 15,
   "id": "0df08612-452e-4787-8f68-d64bd60f6752",
   "metadata": {},
   "outputs": [],
   "source": [
    "employee2 = {'id': 39,'name':\"Sam\",'age':58,'position':\"CEO\"}"
   ]
  },
  {
   "cell_type": "code",
   "execution_count": 16,
   "id": "376a4295-b3c6-44ed-9ca1-be9bfff83d42",
   "metadata": {},
   "outputs": [],
   "source": [
    "company = {'name':\"HSBC\",'employeeList':[employee1, employee2]}\n"
   ]
  },
  {
   "cell_type": "code",
   "execution_count": 17,
   "id": "d231ae40-2d26-4442-ba67-abcbab0ee9db",
   "metadata": {},
   "outputs": [
    {
     "name": "stdout",
     "output_type": "stream",
     "text": [
      "Employee John working as Manager in HSBC\n"
     ]
    }
   ],
   "source": [
    "print('Employee {} working as {} in {}'.format(company['employeeList'][0]['name'], company['employeeList'][0]['position'], company['name']))"
   ]
  },
  {
   "cell_type": "code",
   "execution_count": 18,
   "id": "6571ec5a-e2a1-4183-928c-63920566370b",
   "metadata": {},
   "outputs": [
    {
     "name": "stdout",
     "output_type": "stream",
     "text": [
      "Employee Sam working as CEO in HSBC\n"
     ]
    }
   ],
   "source": [
    "print('Employee {} working as {} in {}'.format(company['employeeList'][1]['name'], company['employeeList'][1]['position'], company['name']))"
   ]
  },
  {
   "cell_type": "code",
   "execution_count": 19,
   "id": "45055e8d-e345-42bd-80b4-2b70bc64516c",
   "metadata": {},
   "outputs": [],
   "source": [
    "# boolean\n"
   ]
  },
  {
   "cell_type": "code",
   "execution_count": 20,
   "id": "0e9c3c95-1994-4082-93eb-39a2ee132335",
   "metadata": {},
   "outputs": [
    {
     "data": {
      "text/plain": [
       "True"
      ]
     },
     "execution_count": 20,
     "metadata": {},
     "output_type": "execute_result"
    }
   ],
   "source": [
    "True"
   ]
  },
  {
   "cell_type": "code",
   "execution_count": 21,
   "id": "4d08b219-a495-4efe-9ff2-c050e3e405dc",
   "metadata": {},
   "outputs": [
    {
     "data": {
      "text/plain": [
       "False"
      ]
     },
     "execution_count": 21,
     "metadata": {},
     "output_type": "execute_result"
    }
   ],
   "source": [
    "False"
   ]
  },
  {
   "cell_type": "code",
   "execution_count": 24,
   "id": "8a244477-bd5d-4f3d-9a86-61b176ce4ec4",
   "metadata": {},
   "outputs": [],
   "source": [
    "# use Tuple using () to create, and use [] to retrieve"
   ]
  },
  {
   "cell_type": "code",
   "execution_count": 23,
   "id": "304f626c-cc7f-44d0-b4d4-445c5d816d40",
   "metadata": {},
   "outputs": [],
   "source": [
    "value = (company, [employee1, employee2], True)"
   ]
  },
  {
   "cell_type": "code",
   "execution_count": 26,
   "id": "f96361cc-417d-4f68-93ab-b2234a9186f0",
   "metadata": {},
   "outputs": [
    {
     "name": "stdout",
     "output_type": "stream",
     "text": [
      "Comany is HSBC\n"
     ]
    }
   ],
   "source": [
    "print('Comany is {}'.format(value[0]['name']))"
   ]
  },
  {
   "cell_type": "code",
   "execution_count": 28,
   "id": "b7287a6b-8a16-450b-ab55-e6300774fe1d",
   "metadata": {},
   "outputs": [
    {
     "name": "stdout",
     "output_type": "stream",
     "text": [
      "employees are John and Sam\n"
     ]
    }
   ],
   "source": [
    "print('employees are {} and {}'.format(value[1][0]['name'], value[1][1]['name']))"
   ]
  },
  {
   "cell_type": "code",
   "execution_count": 30,
   "id": "d5bac6ad-d92c-4b94-97f1-51c1a223b173",
   "metadata": {},
   "outputs": [
    {
     "name": "stdout",
     "output_type": "stream",
     "text": [
      "Is information correct? True\n"
     ]
    }
   ],
   "source": [
    "print('Is information correct? {}'.format(value[2]))"
   ]
  },
  {
   "cell_type": "code",
   "execution_count": 31,
   "id": "3d36e8cb-86d3-4884-baad-68210f995076",
   "metadata": {},
   "outputs": [],
   "source": [
    "# add new key to an existing dictionary"
   ]
  },
  {
   "cell_type": "code",
   "execution_count": 32,
   "id": "855518cf-d185-4f16-920f-d27169bc586f",
   "metadata": {},
   "outputs": [],
   "source": [
    "employee2['Salary'] = 1000000"
   ]
  },
  {
   "cell_type": "code",
   "execution_count": 33,
   "id": "338948f3-e9b4-4a6e-baaf-8b6601e248a1",
   "metadata": {},
   "outputs": [
    {
     "name": "stdout",
     "output_type": "stream",
     "text": [
      "{'id': 39, 'name': 'Sam', 'age': 58, 'position': 'CEO', 'Salary': 1000000}\n"
     ]
    }
   ],
   "source": [
    "print(employee2)"
   ]
  },
  {
   "cell_type": "code",
   "execution_count": 34,
   "id": "7f6286ed-d526-4cf4-8fcf-218f0654562a",
   "metadata": {},
   "outputs": [
    {
     "name": "stdout",
     "output_type": "stream",
     "text": [
      "{'id': 38, 'name': 'John', 'age': 28, 'position': 'Manager'}\n"
     ]
    }
   ],
   "source": [
    "print(employee1)"
   ]
  },
  {
   "cell_type": "code",
   "execution_count": 35,
   "id": "7f1bce20-f2c6-48ec-8d2e-a8feb6d890e0",
   "metadata": {},
   "outputs": [],
   "source": [
    "# reassign any value to a dictionary with existing key"
   ]
  },
  {
   "cell_type": "code",
   "execution_count": 36,
   "id": "2361e0e4-c105-4562-9a5e-df5a58ac668c",
   "metadata": {},
   "outputs": [],
   "source": [
    "employee1['position'] = \"Director\" # promote John to director"
   ]
  },
  {
   "cell_type": "code",
   "execution_count": 37,
   "id": "5187aee9-1a90-4002-909e-b335bfb7fc55",
   "metadata": {},
   "outputs": [
    {
     "name": "stdout",
     "output_type": "stream",
     "text": [
      "{'id': 38, 'name': 'John', 'age': 28, 'position': 'Director'}\n"
     ]
    }
   ],
   "source": [
    "print(employee1)"
   ]
  },
  {
   "cell_type": "code",
   "execution_count": 38,
   "id": "42868571-9e31-49b4-8ea5-074ff7ea251a",
   "metadata": {},
   "outputs": [],
   "source": [
    "# However, you can't assign any new value to tuple because it is immutable once it is created"
   ]
  },
  {
   "cell_type": "code",
   "execution_count": 39,
   "id": "5a38e167-9843-444a-b15c-9af6fa3b6330",
   "metadata": {},
   "outputs": [
    {
     "ename": "TypeError",
     "evalue": "'tuple' object does not support item assignment",
     "output_type": "error",
     "traceback": [
      "\u001b[1;31m---------------------------------------------------------------------------\u001b[0m",
      "\u001b[1;31mTypeError\u001b[0m                                 Traceback (most recent call last)",
      "Cell \u001b[1;32mIn[39], line 1\u001b[0m\n\u001b[1;32m----> 1\u001b[0m \u001b[43mvalue\u001b[49m\u001b[43m[\u001b[49m\u001b[38;5;241;43m2\u001b[39;49m\u001b[43m]\u001b[49m \u001b[38;5;241m=\u001b[39m \u001b[38;5;28;01mFalse\u001b[39;00m\n",
      "\u001b[1;31mTypeError\u001b[0m: 'tuple' object does not support item assignment"
     ]
    }
   ],
   "source": [
    "value[2] = False"
   ]
  },
  {
   "cell_type": "code",
   "execution_count": 41,
   "id": "43cf6977-0a67-4d3e-861c-5475bc01e2dc",
   "metadata": {},
   "outputs": [],
   "source": [
    "# using set with {} but without \":\" to denote the key\n",
    "# it will reduce the list into non-duplicated set\n"
   ]
  },
  {
   "cell_type": "code",
   "execution_count": 43,
   "id": "bcfe1b98-7975-4671-88e1-17291d22b9ec",
   "metadata": {},
   "outputs": [
    {
     "name": "stdout",
     "output_type": "stream",
     "text": [
      "{8, 9, 3, 5}\n"
     ]
    }
   ],
   "source": [
    "aSetValues = {3, 8, 5, 3, 9, 9, 8, 8, 5}\n",
    "print(aSetValues)"
   ]
  },
  {
   "cell_type": "code",
   "execution_count": 44,
   "id": "a3af50f9-7359-495a-9108-e42f3e52dc9c",
   "metadata": {},
   "outputs": [],
   "source": [
    "# using \"set\" function to retreive the unique elements"
   ]
  },
  {
   "cell_type": "code",
   "execution_count": 45,
   "id": "4925fcad-0c7b-41f2-a95e-987e86e2f5bb",
   "metadata": {},
   "outputs": [
    {
     "name": "stdout",
     "output_type": "stream",
     "text": [
      "[3, 3, 3, 3, 8, 8, 8, 8]\n",
      "{8, 3}\n"
     ]
    }
   ],
   "source": [
    "adupList = [3, 3, 3, 3, 8, 8, 8, 8]\n",
    "unqL = set(adupList)\n",
    "print(adupList)\n",
    "print(unqL)"
   ]
  },
  {
   "cell_type": "code",
   "execution_count": 46,
   "id": "78eebbd5-41b0-44ea-830b-6f7a4afd3829",
   "metadata": {},
   "outputs": [],
   "source": [
    "# add element to a set using \"add\" function (as opposed to using \"append\" function in a list)"
   ]
  },
  {
   "cell_type": "code",
   "execution_count": 47,
   "id": "0c22bb83-c4d1-4151-adc6-68ef62be43b3",
   "metadata": {},
   "outputs": [],
   "source": [
    "unqL.add(9)"
   ]
  },
  {
   "cell_type": "code",
   "execution_count": 48,
   "id": "8e9285d0-a600-47de-9d0f-c5321368dc0f",
   "metadata": {},
   "outputs": [
    {
     "name": "stdout",
     "output_type": "stream",
     "text": [
      "{8, 9, 3}\n"
     ]
    }
   ],
   "source": [
    "print(unqL)"
   ]
  },
  {
   "cell_type": "code",
   "execution_count": 59,
   "id": "58ce164f-684d-4058-afe0-46f7ef4c1f80",
   "metadata": {},
   "outputs": [],
   "source": [
    "# you can't store a dictionary inside a set if it is unhashable"
   ]
  },
  {
   "cell_type": "code",
   "execution_count": 58,
   "id": "f900c6a4-4ae7-4014-b1a4-3c8545ed1017",
   "metadata": {},
   "outputs": [
    {
     "ename": "TypeError",
     "evalue": "unhashable type: 'dict'",
     "output_type": "error",
     "traceback": [
      "\u001b[1;31m---------------------------------------------------------------------------\u001b[0m",
      "\u001b[1;31mTypeError\u001b[0m                                 Traceback (most recent call last)",
      "Cell \u001b[1;32mIn[58], line 1\u001b[0m\n\u001b[1;32m----> 1\u001b[0m randomSet \u001b[38;5;241m=\u001b[39m {employee1}\n",
      "\u001b[1;31mTypeError\u001b[0m: unhashable type: 'dict'"
     ]
    }
   ],
   "source": [
    "randomSet = {employee1}"
   ]
  },
  {
   "cell_type": "code",
   "execution_count": 60,
   "id": "513918ba-491c-4b1c-aad0-e97af61e1f5a",
   "metadata": {},
   "outputs": [],
   "source": [
    "# Logical Condition"
   ]
  },
  {
   "cell_type": "code",
   "execution_count": 61,
   "id": "ba8d6555-b3b1-46d4-84ab-a7f220b03ce6",
   "metadata": {},
   "outputs": [
    {
     "data": {
      "text/plain": [
       "False"
      ]
     },
     "execution_count": 61,
     "metadata": {},
     "output_type": "execute_result"
    }
   ],
   "source": [
    "1 > 2"
   ]
  },
  {
   "cell_type": "code",
   "execution_count": 62,
   "id": "adf255ff-927d-4ad3-a4a3-d850b8728a2b",
   "metadata": {},
   "outputs": [
    {
     "data": {
      "text/plain": [
       "True"
      ]
     },
     "execution_count": 62,
     "metadata": {},
     "output_type": "execute_result"
    }
   ],
   "source": [
    "1 < 2"
   ]
  },
  {
   "cell_type": "code",
   "execution_count": 63,
   "id": "60e878a8-dc34-4129-a2fa-74c36e3eea7c",
   "metadata": {},
   "outputs": [
    {
     "data": {
      "text/plain": [
       "False"
      ]
     },
     "execution_count": 63,
     "metadata": {},
     "output_type": "execute_result"
    }
   ],
   "source": [
    "1 == 2"
   ]
  },
  {
   "cell_type": "code",
   "execution_count": 64,
   "id": "b856c020-b450-4e63-815a-1210f9164610",
   "metadata": {},
   "outputs": [
    {
     "data": {
      "text/plain": [
       "True"
      ]
     },
     "execution_count": 64,
     "metadata": {},
     "output_type": "execute_result"
    }
   ],
   "source": [
    "1 != 2"
   ]
  },
  {
   "cell_type": "code",
   "execution_count": 65,
   "id": "171319f6-28c8-43a5-8130-fa74ef2a704a",
   "metadata": {},
   "outputs": [],
   "source": [
    "# \"and\", \"or\" "
   ]
  },
  {
   "cell_type": "code",
   "execution_count": 66,
   "id": "06d73fd7-c00b-420c-a560-f331f4e4aa25",
   "metadata": {},
   "outputs": [
    {
     "data": {
      "text/plain": [
       "False"
      ]
     },
     "execution_count": 66,
     "metadata": {},
     "output_type": "execute_result"
    }
   ],
   "source": [
    "1 > 2 and 3 > 2"
   ]
  },
  {
   "cell_type": "code",
   "execution_count": 67,
   "id": "70b51106-bf5e-4836-8774-3b19870570cf",
   "metadata": {
    "scrolled": true
   },
   "outputs": [
    {
     "data": {
      "text/plain": [
       "True"
      ]
     },
     "execution_count": 67,
     "metadata": {},
     "output_type": "execute_result"
    }
   ],
   "source": [
    "2 > 1 and 3 > 2"
   ]
  },
  {
   "cell_type": "code",
   "execution_count": 68,
   "id": "6a8ad3fa-d7bc-4ea2-82e0-8b06fcc8a163",
   "metadata": {},
   "outputs": [
    {
     "data": {
      "text/plain": [
       "True"
      ]
     },
     "execution_count": 68,
     "metadata": {},
     "output_type": "execute_result"
    }
   ],
   "source": [
    "1 > 2 or 3 > 2"
   ]
  },
  {
   "cell_type": "code",
   "execution_count": 69,
   "id": "310c1c5d-9fe9-445f-b243-f35c3880317b",
   "metadata": {},
   "outputs": [
    {
     "data": {
      "text/plain": [
       "False"
      ]
     },
     "execution_count": 69,
     "metadata": {},
     "output_type": "execute_result"
    }
   ],
   "source": [
    "1 > 2 or 3 < 2"
   ]
  },
  {
   "cell_type": "code",
   "execution_count": 76,
   "id": "c394dd0d-05bc-4754-81cd-26214f1abdd6",
   "metadata": {},
   "outputs": [],
   "source": [
    "# if, elif(i.e.else if) , else"
   ]
  },
  {
   "cell_type": "code",
   "execution_count": 71,
   "id": "656b87fe-ddfc-4ade-9592-fbc23f06d492",
   "metadata": {},
   "outputs": [
    {
     "name": "stdout",
     "output_type": "stream",
     "text": [
      "2 is greater than 1\n"
     ]
    }
   ],
   "source": [
    "if 2 > 1:\n",
    "    print(\"2 is greater than 1\")"
   ]
  },
  {
   "cell_type": "code",
   "execution_count": 75,
   "id": "074a11ff-f3e3-45a5-8b60-8f488ad03c16",
   "metadata": {},
   "outputs": [
    {
     "name": "stdout",
     "output_type": "stream",
     "text": [
      "Today weather is not known!\n",
      "result = 3\n"
     ]
    }
   ],
   "source": [
    "forecast = \"whatever\"\n",
    "result = 0\n",
    "if forecast == \"sunny\":\n",
    "    print(\"Today is sunny day\")\n",
    "    result = 1\n",
    "elif forecast == \"cloudy\":\n",
    "    print(\"Today is cloudy\")\n",
    "    result = 2\n",
    "else:\n",
    "    print(\"Today weather is not known!\")\n",
    "    result = 3\n",
    "print('result = {}'.format(result))"
   ]
  },
  {
   "cell_type": "code",
   "execution_count": 1,
   "id": "95c08aab-9e2a-4852-ae19-b84c7db932a7",
   "metadata": {},
   "outputs": [],
   "source": [
    "# looping, for loop\n"
   ]
  },
  {
   "cell_type": "code",
   "execution_count": 5,
   "id": "26143222-9277-4299-a10d-140f14de3a23",
   "metadata": {},
   "outputs": [
    {
     "name": "stdout",
     "output_type": "stream",
     "text": [
      "2\n",
      "5\n",
      "1\n",
      "2\n",
      "5\n",
      "Total = 15\n"
     ]
    }
   ],
   "source": [
    "# loop over a list\n",
    "anynumList = [2, 5, 1, 2, 5]\n",
    "total = 0\n",
    "for eachNum in anynumList:\n",
    "    print(eachNum)\n",
    "    total += eachNum\n",
    "print('Total = {}'.format(total))\n",
    "      \n",
    "    \n"
   ]
  },
  {
   "cell_type": "code",
   "execution_count": 6,
   "id": "71d106c7-9932-486e-b865-e6a7007a1de2",
   "metadata": {},
   "outputs": [],
   "source": [
    "# while loop"
   ]
  },
  {
   "cell_type": "code",
   "execution_count": 2,
   "id": "8433f097-66a1-4842-b914-eb80aacb3786",
   "metadata": {},
   "outputs": [
    {
     "name": "stdout",
     "output_type": "stream",
     "text": [
      "Loop 1\n",
      "Loop 2\n",
      "Loop 3\n",
      "Loop 4\n",
      "Loop 5\n",
      "Total = 10 \n"
     ]
    }
   ],
   "source": [
    "i = 0\n",
    "total = 0\n",
    "while i < 5:\n",
    "    print(\"Loop {}\".format(i+1))\n",
    "    total += i\n",
    "    i += 1\n",
    "print(\"Total = {} \".format(total))\n",
    "    "
   ]
  },
  {
   "cell_type": "code",
   "execution_count": 7,
   "id": "c5d437ae-5bb9-4a45-acd0-c416f37414a8",
   "metadata": {},
   "outputs": [
    {
     "name": "stdout",
     "output_type": "stream",
     "text": [
      "range(1, 5)\n"
     ]
    }
   ],
   "source": [
    "# range function can generate a list from 1 to 4 (not including 5)\n",
    "rangeObj = range(1, 5)\n",
    "print(rangeObj)"
   ]
  },
  {
   "cell_type": "code",
   "execution_count": 5,
   "id": "13e96a49-0280-4a57-ac6c-ce0c53ca3955",
   "metadata": {},
   "outputs": [
    {
     "name": "stdout",
     "output_type": "stream",
     "text": [
      "[1, 2, 3, 4]\n"
     ]
    }
   ],
   "source": [
    "genList = list(rangeObj)\n",
    "print(genList)"
   ]
  },
  {
   "cell_type": "code",
   "execution_count": 6,
   "id": "90a1a2e5-b6df-4e14-9dfb-a59362e35378",
   "metadata": {},
   "outputs": [
    {
     "name": "stdout",
     "output_type": "stream",
     "text": [
      "0\n",
      "1\n",
      "2\n",
      "3\n",
      "4\n"
     ]
    }
   ],
   "source": [
    "for curIndex in range(0, 5):\n",
    "    print(curIndex)"
   ]
  },
  {
   "cell_type": "code",
   "execution_count": 8,
   "id": "376c055a-9f27-4844-9735-b6189135a409",
   "metadata": {},
   "outputs": [],
   "source": [
    "# list comprehension\n",
    "# compute each element in the list into a new value in one go"
   ]
  },
  {
   "cell_type": "code",
   "execution_count": 13,
   "id": "2dc789af-d623-4243-8995-b770e44c14b0",
   "metadata": {},
   "outputs": [
    {
     "name": "stdout",
     "output_type": "stream",
     "text": [
      "[1, 4, 9, 16, 25, 36]\n"
     ]
    }
   ],
   "source": [
    "oldList = [1, 2, 3, 4, 5, 6]\n",
    "powerTwoList = [ eachNum ** 2 for eachNum in oldList]\n",
    "print(powerTwoList)"
   ]
  },
  {
   "cell_type": "code",
   "execution_count": null,
   "id": "af40adea-9b49-4427-b97d-270d81d71ac0",
   "metadata": {},
   "outputs": [],
   "source": []
  }
 ],
 "metadata": {
  "kernelspec": {
   "display_name": "Python 3 (ipykernel)",
   "language": "python",
   "name": "python3"
  },
  "language_info": {
   "codemirror_mode": {
    "name": "ipython",
    "version": 3
   },
   "file_extension": ".py",
   "mimetype": "text/x-python",
   "name": "python",
   "nbconvert_exporter": "python",
   "pygments_lexer": "ipython3",
   "version": "3.12.1"
  }
 },
 "nbformat": 4,
 "nbformat_minor": 5
}
