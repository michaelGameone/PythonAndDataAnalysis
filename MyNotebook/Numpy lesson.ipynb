{
 "cells": [
  {
   "cell_type": "code",
   "execution_count": 1,
   "id": "9c8f88b6-fcf6-4638-9962-36e981b927ed",
   "metadata": {},
   "outputs": [],
   "source": [
    "# numpy arrays\n"
   ]
  },
  {
   "cell_type": "code",
   "execution_count": 2,
   "id": "5d049142-48b0-4668-b0fe-34d4dfd6e062",
   "metadata": {},
   "outputs": [],
   "source": [
    "import numpy as np"
   ]
  },
  {
   "cell_type": "code",
   "execution_count": 4,
   "id": "c65f8b23-869c-49a6-8db8-792dfe405c45",
   "metadata": {},
   "outputs": [],
   "source": [
    "arr = np.array([1, 2, 3])\n"
   ]
  },
  {
   "cell_type": "code",
   "execution_count": 5,
   "id": "c28a5e61-bd5f-4e7e-9360-43fcbca4e6c5",
   "metadata": {},
   "outputs": [
    {
     "data": {
      "text/plain": [
       "array([1, 2, 3])"
      ]
     },
     "execution_count": 5,
     "metadata": {},
     "output_type": "execute_result"
    }
   ],
   "source": [
    "arr"
   ]
  },
  {
   "cell_type": "code",
   "execution_count": 7,
   "id": "96650a7b-3c1d-48bc-934b-252a028946f8",
   "metadata": {},
   "outputs": [],
   "source": [
    "pri_mat = [[1, 0, 0],[0, 1, 0],[0, 0, 1]]"
   ]
  },
  {
   "cell_type": "code",
   "execution_count": 9,
   "id": "27e5f2e0-e62f-40ee-a6c2-edd784da8f65",
   "metadata": {},
   "outputs": [
    {
     "data": {
      "text/plain": [
       "[[1, 0, 0], [0, 1, 0], [0, 0, 1]]"
      ]
     },
     "execution_count": 9,
     "metadata": {},
     "output_type": "execute_result"
    }
   ],
   "source": [
    "pri_mat"
   ]
  },
  {
   "cell_type": "code",
   "execution_count": 10,
   "id": "94a5ccec-c8ff-4ab3-873b-8f440eefbdfa",
   "metadata": {},
   "outputs": [],
   "source": [
    "arr = np.array(pri_mat)"
   ]
  },
  {
   "cell_type": "code",
   "execution_count": 11,
   "id": "4ffdc4a0-9b8a-4c7e-98cf-e61811496334",
   "metadata": {},
   "outputs": [
    {
     "data": {
      "text/plain": [
       "array([[1, 0, 0],\n",
       "       [0, 1, 0],\n",
       "       [0, 0, 1]])"
      ]
     },
     "execution_count": 11,
     "metadata": {},
     "output_type": "execute_result"
    }
   ],
   "source": [
    "arr"
   ]
  },
  {
   "cell_type": "code",
   "execution_count": 13,
   "id": "ebdaebd4-470e-47ba-94ee-d7c4c0c8a02d",
   "metadata": {},
   "outputs": [],
   "source": [
    "# build in create np arrray, similar to range() function"
   ]
  },
  {
   "cell_type": "code",
   "execution_count": 15,
   "id": "b8b7ff20-b47c-4857-b33e-ecf6216a253a",
   "metadata": {},
   "outputs": [
    {
     "data": {
      "text/plain": [
       "array([ 1,  2,  3,  4,  5,  6,  7,  8,  9, 10])"
      ]
     },
     "execution_count": 15,
     "metadata": {},
     "output_type": "execute_result"
    }
   ],
   "source": [
    "np.arange(1, 11)"
   ]
  },
  {
   "cell_type": "code",
   "execution_count": 17,
   "id": "b43d15c1-6357-4c7f-940f-cc86a6568a4a",
   "metadata": {},
   "outputs": [
    {
     "data": {
      "text/plain": [
       "array([1, 3, 5, 7, 9])"
      ]
     },
     "execution_count": 17,
     "metadata": {},
     "output_type": "execute_result"
    }
   ],
   "source": [
    "np.arange(1, 11, 2) # increment by 2 for each element"
   ]
  },
  {
   "cell_type": "code",
   "execution_count": 22,
   "id": "908acb71-b7a1-479b-a3f1-19c2dd16f213",
   "metadata": {},
   "outputs": [
    {
     "data": {
      "text/plain": [
       "array([0., 0., 0.])"
      ]
     },
     "execution_count": 22,
     "metadata": {},
     "output_type": "execute_result"
    }
   ],
   "source": [
    "np.zeros(3) # pass in how many elements"
   ]
  },
  {
   "cell_type": "code",
   "execution_count": 23,
   "id": "faeabb97-f5c3-4869-ba17-c58c16e6d810",
   "metadata": {},
   "outputs": [
    {
     "data": {
      "text/plain": [
       "array([[0., 0.],\n",
       "       [0., 0.],\n",
       "       [0., 0.]])"
      ]
     },
     "execution_count": 23,
     "metadata": {},
     "output_type": "execute_result"
    }
   ],
   "source": [
    "np.zeros((3,2)) # pass in a tuple to make a 2-dim array (3 rows, 2 columns in this example)"
   ]
  },
  {
   "cell_type": "code",
   "execution_count": 24,
   "id": "493a167e-20ea-4dbd-a166-41919d91845f",
   "metadata": {},
   "outputs": [
    {
     "data": {
      "text/plain": [
       "array([[[0., 0.],\n",
       "        [0., 0.],\n",
       "        [0., 0.]],\n",
       "\n",
       "       [[0., 0.],\n",
       "        [0., 0.],\n",
       "        [0., 0.]],\n",
       "\n",
       "       [[0., 0.],\n",
       "        [0., 0.],\n",
       "        [0., 0.]],\n",
       "\n",
       "       [[0., 0.],\n",
       "        [0., 0.],\n",
       "        [0., 0.]]])"
      ]
     },
     "execution_count": 24,
     "metadata": {},
     "output_type": "execute_result"
    }
   ],
   "source": [
    "np.zeros((4,3,2)) # 3-dim"
   ]
  },
  {
   "cell_type": "code",
   "execution_count": 26,
   "id": "47cea3ec-fd7f-4908-999c-b5b645a051ec",
   "metadata": {},
   "outputs": [
    {
     "data": {
      "text/plain": [
       "array([[1., 1., 1.],\n",
       "       [1., 1., 1.]])"
      ]
     },
     "execution_count": 26,
     "metadata": {},
     "output_type": "execute_result"
    }
   ],
   "source": [
    "np.ones((2, 3))"
   ]
  },
  {
   "cell_type": "code",
   "execution_count": 28,
   "id": "2af2eae3-90dd-43d4-8af2-aa32bae358e6",
   "metadata": {},
   "outputs": [
    {
     "data": {
      "text/plain": [
       "array([0.        , 0.55555556, 1.11111111, 1.66666667, 2.22222222,\n",
       "       2.77777778, 3.33333333, 3.88888889, 4.44444444, 5.        ])"
      ]
     },
     "execution_count": 28,
     "metadata": {},
     "output_type": "execute_result"
    }
   ],
   "source": [
    "np.linspace(0,5,10) # create 1-dim array with 10 elements numerically evenly distributed"
   ]
  },
  {
   "cell_type": "code",
   "execution_count": 29,
   "id": "91e60866-6901-483c-b1dc-cb5586326ef7",
   "metadata": {},
   "outputs": [
    {
     "data": {
      "text/plain": [
       "array([0.        , 0.01010101, 0.02020202, 0.03030303, 0.04040404,\n",
       "       0.05050505, 0.06060606, 0.07070707, 0.08080808, 0.09090909,\n",
       "       0.1010101 , 0.11111111, 0.12121212, 0.13131313, 0.14141414,\n",
       "       0.15151515, 0.16161616, 0.17171717, 0.18181818, 0.19191919,\n",
       "       0.2020202 , 0.21212121, 0.22222222, 0.23232323, 0.24242424,\n",
       "       0.25252525, 0.26262626, 0.27272727, 0.28282828, 0.29292929,\n",
       "       0.3030303 , 0.31313131, 0.32323232, 0.33333333, 0.34343434,\n",
       "       0.35353535, 0.36363636, 0.37373737, 0.38383838, 0.39393939,\n",
       "       0.4040404 , 0.41414141, 0.42424242, 0.43434343, 0.44444444,\n",
       "       0.45454545, 0.46464646, 0.47474747, 0.48484848, 0.49494949,\n",
       "       0.50505051, 0.51515152, 0.52525253, 0.53535354, 0.54545455,\n",
       "       0.55555556, 0.56565657, 0.57575758, 0.58585859, 0.5959596 ,\n",
       "       0.60606061, 0.61616162, 0.62626263, 0.63636364, 0.64646465,\n",
       "       0.65656566, 0.66666667, 0.67676768, 0.68686869, 0.6969697 ,\n",
       "       0.70707071, 0.71717172, 0.72727273, 0.73737374, 0.74747475,\n",
       "       0.75757576, 0.76767677, 0.77777778, 0.78787879, 0.7979798 ,\n",
       "       0.80808081, 0.81818182, 0.82828283, 0.83838384, 0.84848485,\n",
       "       0.85858586, 0.86868687, 0.87878788, 0.88888889, 0.8989899 ,\n",
       "       0.90909091, 0.91919192, 0.92929293, 0.93939394, 0.94949495,\n",
       "       0.95959596, 0.96969697, 0.97979798, 0.98989899, 1.        ])"
      ]
     },
     "execution_count": 29,
     "metadata": {},
     "output_type": "execute_result"
    }
   ],
   "source": [
    "np.linspace(0,1,100)"
   ]
  },
  {
   "cell_type": "code",
   "execution_count": 30,
   "id": "dcd83666-bf75-4eb5-bcb7-02a4e15bc5ae",
   "metadata": {},
   "outputs": [],
   "source": [
    "# create an idenity matrix using \"eye\" function"
   ]
  },
  {
   "cell_type": "code",
   "execution_count": 31,
   "id": "b36b8d3f-8879-4064-8d61-8d09d0ac19fa",
   "metadata": {},
   "outputs": [
    {
     "data": {
      "text/plain": [
       "array([[1., 0., 0., 0., 0.],\n",
       "       [0., 1., 0., 0., 0.],\n",
       "       [0., 0., 1., 0., 0.],\n",
       "       [0., 0., 0., 1., 0.],\n",
       "       [0., 0., 0., 0., 1.]])"
      ]
     },
     "execution_count": 31,
     "metadata": {},
     "output_type": "execute_result"
    }
   ],
   "source": [
    "np.eye(5)"
   ]
  },
  {
   "cell_type": "code",
   "execution_count": 33,
   "id": "a68ca659-d074-4598-8edb-c0d5dc20558d",
   "metadata": {},
   "outputs": [
    {
     "data": {
      "text/plain": [
       "array([0.08766578, 0.18888782, 0.56482761, 0.20959155, 0.65251213])"
      ]
     },
     "execution_count": 33,
     "metadata": {},
     "output_type": "execute_result"
    }
   ],
   "source": [
    "np.random.rand(5) # create 5 random number in 1-dim array"
   ]
  },
  {
   "cell_type": "code",
   "execution_count": 34,
   "id": "28cd83fa-3293-4f7f-bb95-783b159709dd",
   "metadata": {},
   "outputs": [
    {
     "data": {
      "text/plain": [
       "array([[0.90284121, 0.39817077, 0.80702593, 0.57392783, 0.67450744],\n",
       "       [0.39998276, 0.4313927 , 0.93448652, 0.37346581, 0.48519566],\n",
       "       [0.69602579, 0.71961414, 0.03007569, 0.89982105, 0.94078063],\n",
       "       [0.37413324, 0.444418  , 0.21474549, 0.90683343, 0.32341182],\n",
       "       [0.19574583, 0.50751072, 0.73195848, 0.03431764, 0.27565628]])"
      ]
     },
     "execution_count": 34,
     "metadata": {},
     "output_type": "execute_result"
    }
   ],
   "source": [
    "np.random.rand(5,5) # create 5x5 random number in 2-dim array"
   ]
  },
  {
   "cell_type": "code",
   "execution_count": 35,
   "id": "d4184b4c-c46c-4df3-9e01-ed4ede3a4c9c",
   "metadata": {},
   "outputs": [
    {
     "data": {
      "text/plain": [
       "array([0.23915015, 0.47262938])"
      ]
     },
     "execution_count": 35,
     "metadata": {},
     "output_type": "execute_result"
    }
   ],
   "source": [
    "np.random.randn(2) # generate 2 random number in normal distribution"
   ]
  },
  {
   "cell_type": "code",
   "execution_count": 36,
   "id": "9d4f9ddc-9dba-4a48-983a-38cb9e3f06f6",
   "metadata": {},
   "outputs": [
    {
     "data": {
      "text/plain": [
       "array([[-1.02396164,  1.45942148],\n",
       "       [ 1.42328582,  0.75570068],\n",
       "       [-1.40610788,  0.5006817 ]])"
      ]
     },
     "execution_count": 36,
     "metadata": {},
     "output_type": "execute_result"
    }
   ],
   "source": [
    "np.random.randn(3,2)"
   ]
  },
  {
   "cell_type": "code",
   "execution_count": 37,
   "id": "7b82e8d3-75e6-42cd-85c4-786ae808c1d9",
   "metadata": {},
   "outputs": [
    {
     "data": {
      "text/plain": [
       "19"
      ]
     },
     "execution_count": 37,
     "metadata": {},
     "output_type": "execute_result"
    }
   ],
   "source": [
    "np.random.randint(1,100) # generate a random integer where  1 <= x < 100"
   ]
  },
  {
   "cell_type": "code",
   "execution_count": 38,
   "id": "447b6275-69ee-423e-ad1e-b860d6330b53",
   "metadata": {},
   "outputs": [
    {
     "data": {
      "text/plain": [
       "array([ 2,  9, 44])"
      ]
     },
     "execution_count": 38,
     "metadata": {},
     "output_type": "execute_result"
    }
   ],
   "source": [
    "np.random.randint(1,100,3) # generate 3 intgers"
   ]
  },
  {
   "cell_type": "code",
   "execution_count": 48,
   "id": "b8889c82-15fd-4d84-9a01-b4238beaa7d7",
   "metadata": {},
   "outputs": [],
   "source": [
    "# you can change the dimension of one array to another dimension with using reshape"
   ]
  },
  {
   "cell_type": "code",
   "execution_count": 40,
   "id": "da508168-f145-4356-819f-1ea1809fc0b8",
   "metadata": {},
   "outputs": [],
   "source": [
    "#example"
   ]
  },
  {
   "cell_type": "code",
   "execution_count": 43,
   "id": "773cc6c2-2672-447d-90f2-71c678a54744",
   "metadata": {},
   "outputs": [
    {
     "data": {
      "text/plain": [
       "array([ 1,  2,  3,  4,  5,  6,  7,  8,  9, 10, 11, 12, 13, 14, 15, 16, 17,\n",
       "       18, 19, 20, 21, 22, 23, 24, 25])"
      ]
     },
     "execution_count": 43,
     "metadata": {},
     "output_type": "execute_result"
    }
   ],
   "source": [
    "arr = np.arange(1,26) # generate 1-dim array with element from 1 to 25\n",
    "arr"
   ]
  },
  {
   "cell_type": "raw",
   "id": "e352b3f1-b0e2-4147-8358-d00895fda3b7",
   "metadata": {},
   "source": [
    "# now change the above array from 1 dmension to 2 dimension with 5row x 5column"
   ]
  },
  {
   "cell_type": "code",
   "execution_count": 47,
   "id": "a6c4233a-74be-41dd-b83f-efa680ef9b27",
   "metadata": {},
   "outputs": [
    {
     "data": {
      "text/plain": [
       "array([[ 1,  2,  3,  4,  5],\n",
       "       [ 6,  7,  8,  9, 10],\n",
       "       [11, 12, 13, 14, 15],\n",
       "       [16, 17, 18, 19, 20],\n",
       "       [21, 22, 23, 24, 25]])"
      ]
     },
     "execution_count": 47,
     "metadata": {},
     "output_type": "execute_result"
    }
   ],
   "source": [
    "new5x5 = arr.reshape(5,5)\n",
    "new5x5 # arr still remain unchanged, but return a 5x5 array to \"new5x5\" array\n"
   ]
  },
  {
   "cell_type": "code",
   "execution_count": 49,
   "id": "c7e21d60-637e-4198-bc53-11ac30299f90",
   "metadata": {},
   "outputs": [
    {
     "name": "stdout",
     "output_type": "stream",
     "text": [
      "25\n"
     ]
    }
   ],
   "source": [
    "# get the max value in the array by using MAX function\n",
    "print(arr.max())"
   ]
  },
  {
   "cell_type": "code",
   "execution_count": 50,
   "id": "e20356a8-ba7d-4cf2-8d58-f29972358789",
   "metadata": {},
   "outputs": [
    {
     "name": "stdout",
     "output_type": "stream",
     "text": [
      "1\n"
     ]
    }
   ],
   "source": [
    "print(arr.min()) # min value"
   ]
  },
  {
   "cell_type": "code",
   "execution_count": 51,
   "id": "6f0570a3-85b0-44c8-8e9d-bbd2dfbaf6dc",
   "metadata": {},
   "outputs": [
    {
     "name": "stdout",
     "output_type": "stream",
     "text": [
      "24\n",
      "0\n"
     ]
    }
   ],
   "source": [
    "# return the positin of the max value\n",
    "print(arr.argmax())\n",
    "print(arr.argmin())"
   ]
  },
  {
   "cell_type": "code",
   "execution_count": 54,
   "id": "2d65c846-45df-4656-9c35-78c60f3901fd",
   "metadata": {},
   "outputs": [
    {
     "name": "stdout",
     "output_type": "stream",
     "text": [
      "24\n",
      "0\n"
     ]
    }
   ],
   "source": [
    "# return the position in 2-dim array as a one-dimension index\n",
    "print(new5x5.argmax())\n",
    "print(new5x5.argmin())"
   ]
  },
  {
   "cell_type": "code",
   "execution_count": 53,
   "id": "91774a44-082e-4dcd-9a82-c32c6f3d8d9d",
   "metadata": {},
   "outputs": [
    {
     "data": {
      "text/plain": [
       "array([[ 1,  2,  3,  4,  5],\n",
       "       [ 6,  7,  8,  9, 10],\n",
       "       [11, 12, 13, 14, 15],\n",
       "       [16, 17, 18, 19, 20],\n",
       "       [21, 22, 23, 24, 25]])"
      ]
     },
     "execution_count": 53,
     "metadata": {},
     "output_type": "execute_result"
    }
   ],
   "source": [
    "new5x5"
   ]
  },
  {
   "cell_type": "code",
   "execution_count": 55,
   "id": "d1b79d89-78df-4db9-a0b9-f8e631fd3318",
   "metadata": {},
   "outputs": [
    {
     "data": {
      "text/plain": [
       "(5, 5)"
      ]
     },
     "execution_count": 55,
     "metadata": {},
     "output_type": "execute_result"
    }
   ],
   "source": [
    "new5x5.shape # check how many dimension"
   ]
  },
  {
   "cell_type": "code",
   "execution_count": 56,
   "id": "60bd18f8-60ae-49d0-93df-2d0dc5b5e00a",
   "metadata": {},
   "outputs": [
    {
     "data": {
      "text/plain": [
       "(25,)"
      ]
     },
     "execution_count": 56,
     "metadata": {},
     "output_type": "execute_result"
    }
   ],
   "source": [
    "arr.shape"
   ]
  },
  {
   "cell_type": "code",
   "execution_count": 58,
   "id": "a8b62027-27e7-4cc0-9974-72edf1fa9328",
   "metadata": {},
   "outputs": [
    {
     "data": {
      "text/plain": [
       "dtype('int32')"
      ]
     },
     "execution_count": 58,
     "metadata": {},
     "output_type": "execute_result"
    }
   ],
   "source": [
    "arr.dtype # check the data type of the array"
   ]
  },
  {
   "cell_type": "code",
   "execution_count": 59,
   "id": "82837011-4b25-46de-a7f4-c0b295bcd3c8",
   "metadata": {},
   "outputs": [
    {
     "data": {
      "text/plain": [
       "27"
      ]
     },
     "execution_count": 59,
     "metadata": {},
     "output_type": "execute_result"
    }
   ],
   "source": [
    "# if only want to use certain function from numpy, just import that function\n",
    "# for example, if just want to use \"randint\" function, do the following:\n",
    "from numpy.random import randint\n",
    "randint(0,100)"
   ]
  },
  {
   "cell_type": "code",
   "execution_count": 61,
   "id": "84280617-1e64-4739-897d-ac923ae83ecd",
   "metadata": {},
   "outputs": [
    {
     "data": {
      "text/plain": [
       "array([ 1,  2,  3,  4,  5,  6,  7,  8,  9, 10])"
      ]
     },
     "execution_count": 61,
     "metadata": {},
     "output_type": "execute_result"
    }
   ],
   "source": [
    "newArr = np.arange(1, 11)\n",
    "newArr\n"
   ]
  },
  {
   "cell_type": "code",
   "execution_count": 62,
   "id": "ce13e417-41c4-4693-ade9-f5c17b50d3f2",
   "metadata": {},
   "outputs": [
    {
     "data": {
      "text/plain": [
       "3"
      ]
     },
     "execution_count": 62,
     "metadata": {},
     "output_type": "execute_result"
    }
   ],
   "source": [
    "newArr[2] # retreive element just like in list"
   ]
  },
  {
   "cell_type": "code",
   "execution_count": 64,
   "id": "6a94d034-5fce-458b-9181-2ca05d1b0b29",
   "metadata": {},
   "outputs": [
    {
     "data": {
      "text/plain": [
       "array([1, 2, 3])"
      ]
     },
     "execution_count": 64,
     "metadata": {},
     "output_type": "execute_result"
    }
   ],
   "source": [
    "newArr[0:3] # return first 3 elements\n"
   ]
  },
  {
   "cell_type": "code",
   "execution_count": 65,
   "id": "1699772e-ec3b-4c79-810b-9eee1d4de0e5",
   "metadata": {},
   "outputs": [
    {
     "data": {
      "text/plain": [
       "array([ 4,  5,  6,  7,  8,  9, 10])"
      ]
     },
     "execution_count": 65,
     "metadata": {},
     "output_type": "execute_result"
    }
   ],
   "source": [
    "newArr[3:]"
   ]
  },
  {
   "cell_type": "code",
   "execution_count": 67,
   "id": "6cbb9d1d-2466-40ea-8703-a645c27ca5ec",
   "metadata": {},
   "outputs": [
    {
     "data": {
      "text/plain": [
       "array([[16, 17, 18, 19, 20],\n",
       "       [21, 22, 23, 24, 25]])"
      ]
     },
     "execution_count": 67,
     "metadata": {},
     "output_type": "execute_result"
    }
   ],
   "source": [
    "new5x5[3:] # work also in 2-dim array"
   ]
  },
  {
   "cell_type": "code",
   "execution_count": 69,
   "id": "7d1c3394-9cc1-4f7c-8a4d-196aff75f3c1",
   "metadata": {},
   "outputs": [
    {
     "data": {
      "text/plain": [
       "array([1, 2, 3, 1, 1, 1, 1, 1, 1, 1])"
      ]
     },
     "execution_count": 69,
     "metadata": {},
     "output_type": "execute_result"
    }
   ],
   "source": [
    "newArr[3:] = 1 # set all the element starting from position 3 to 1\n",
    "newArr"
   ]
  },
  {
   "cell_type": "code",
   "execution_count": 74,
   "id": "80d7d541-4d75-490e-b802-80b466a3098a",
   "metadata": {},
   "outputs": [
    {
     "name": "stdout",
     "output_type": "stream",
     "text": [
      "[ 1  2  3  4  5  6  7  8  9 10]\n",
      "[1 2 3 4 5]\n"
     ]
    }
   ],
   "source": [
    "# one thing to be careful\n",
    "# when a array is a subset from the parent array\n",
    "originalArr = np.arange(1,11)\n",
    "subArr = originalArr[:5]\n",
    "print(originalArr)\n",
    "print(subArr)"
   ]
  },
  {
   "cell_type": "code",
   "execution_count": 75,
   "id": "42ed7701-0359-437c-bc59-4fe03f505178",
   "metadata": {},
   "outputs": [
    {
     "name": "stdout",
     "output_type": "stream",
     "text": [
      "[100 100 100 100 100]\n",
      "[100 100 100 100 100   6   7   8   9  10]\n"
     ]
    }
   ],
   "source": [
    "# what if I assigns new value to the sub-array, it will also changes the values in the original array\n",
    "subArr[:] = 100\n",
    "print(subArr)\n",
    "print(originalArr)"
   ]
  },
  {
   "cell_type": "code",
   "execution_count": 76,
   "id": "a635cb02-bbb7-4388-aac9-581f7179ccfd",
   "metadata": {},
   "outputs": [],
   "source": [
    "# therefore, you need to copy a duplicated array to avoid changing the original array unintentionally"
   ]
  },
  {
   "cell_type": "code",
   "execution_count": 78,
   "id": "b0cf449c-de05-4588-a61a-854d6dc5210c",
   "metadata": {},
   "outputs": [
    {
     "name": "stdout",
     "output_type": "stream",
     "text": [
      "[100 100 100 100 100   6   7   8   9  10]\n",
      "[1 1 1 1 1 1 1 1 1 1]\n",
      "[100 100 100 100 100   6   7   8   9  10]\n"
     ]
    }
   ],
   "source": [
    "arrClone = originalArr.copy()\n",
    "print(arrClone)\n",
    "arrClone[:] = 1\n",
    "print(arrClone)\n",
    "print(originalArr)"
   ]
  },
  {
   "cell_type": "code",
   "execution_count": 81,
   "id": "19d715ef-e9a5-40ec-b672-5ae79f23d44d",
   "metadata": {},
   "outputs": [],
   "source": [
    "arr2x2 = np.array([[3,0,8],[2,1,-8],[38, 0, 13]])"
   ]
  },
  {
   "cell_type": "code",
   "execution_count": 82,
   "id": "52f79ab6-2dd9-43ed-96b4-ef0558740b39",
   "metadata": {},
   "outputs": [
    {
     "data": {
      "text/plain": [
       "array([[ 3,  0,  8],\n",
       "       [ 2,  1, -8],\n",
       "       [38,  0, 13]])"
      ]
     },
     "execution_count": 82,
     "metadata": {},
     "output_type": "execute_result"
    }
   ],
   "source": [
    "arr2x2"
   ]
  },
  {
   "cell_type": "code",
   "execution_count": 84,
   "id": "af3fe9de-28ab-4525-8904-fdd62062557d",
   "metadata": {},
   "outputs": [
    {
     "data": {
      "text/plain": [
       "13"
      ]
     },
     "execution_count": 84,
     "metadata": {},
     "output_type": "execute_result"
    }
   ],
   "source": [
    "# to locate certain element in above matrix, you can locate them in [row][column] format\n",
    "#e.g. to locate \"13\" which is row = 2, column = 2 (row or column starts at 0)\n",
    "arr2x2[2][2]"
   ]
  },
  {
   "cell_type": "code",
   "execution_count": 85,
   "id": "9d4f4829-b262-4107-aca4-ec031f21c741",
   "metadata": {},
   "outputs": [],
   "source": [
    "#e.g to locate -8"
   ]
  },
  {
   "cell_type": "code",
   "execution_count": 86,
   "id": "df0cf664-9406-4b2f-8818-b9033a0aa350",
   "metadata": {},
   "outputs": [
    {
     "data": {
      "text/plain": [
       "-8"
      ]
     },
     "execution_count": 86,
     "metadata": {},
     "output_type": "execute_result"
    }
   ],
   "source": [
    "arr2x2[1][2]"
   ]
  },
  {
   "cell_type": "code",
   "execution_count": 87,
   "id": "dddc0fd5-3713-4292-8662-9765f0e34b91",
   "metadata": {},
   "outputs": [
    {
     "data": {
      "text/plain": [
       "array([ 2,  1, -8])"
      ]
     },
     "execution_count": 87,
     "metadata": {},
     "output_type": "execute_result"
    }
   ],
   "source": [
    "# or you can get entire row\n",
    "# example, to get a row 2\n",
    "arr2x2[1]\n"
   ]
  },
  {
   "cell_type": "code",
   "execution_count": 89,
   "id": "6477de09-fca1-4bf3-aed2-73fe79e233fa",
   "metadata": {},
   "outputs": [
    {
     "data": {
      "text/plain": [
       "array([38,  0, 13])"
      ]
     },
     "execution_count": 89,
     "metadata": {},
     "output_type": "execute_result"
    }
   ],
   "source": [
    "arr2x2[:][2]"
   ]
  },
  {
   "cell_type": "code",
   "execution_count": 90,
   "id": "706d015b-220f-4b43-b5f4-f255a6a1732f",
   "metadata": {},
   "outputs": [
    {
     "data": {
      "text/plain": [
       "-8"
      ]
     },
     "execution_count": 90,
     "metadata": {},
     "output_type": "execute_result"
    }
   ],
   "source": [
    "# actually you can use single bracket with the same result\n",
    "arr2x2[1,2]"
   ]
  },
  {
   "cell_type": "code",
   "execution_count": 91,
   "id": "eb62b895-cbe3-4803-933c-7a06df3ac59c",
   "metadata": {},
   "outputs": [
    {
     "data": {
      "text/plain": [
       "array([[ 3,  0,  8],\n",
       "       [ 2,  1, -8],\n",
       "       [38,  0, 13]])"
      ]
     },
     "execution_count": 91,
     "metadata": {},
     "output_type": "execute_result"
    }
   ],
   "source": [
    "arr2x2"
   ]
  },
  {
   "cell_type": "code",
   "execution_count": 93,
   "id": "941bbea3-4077-4ca5-9e38-57ed2e6a135f",
   "metadata": {},
   "outputs": [
    {
     "data": {
      "text/plain": [
       "array([ 8, -8, 13])"
      ]
     },
     "execution_count": 93,
     "metadata": {},
     "output_type": "execute_result"
    }
   ],
   "source": [
    "# you get grab a portion of martix using \":\" to define the range\n",
    "# for example, if I want to grab column 3 numbers (i.e. \"8,-8,13\")\n",
    "# for rows, the range is from 0 to 2 (i.e. no limit), so I use \":\" to say all rows allowed\n",
    "# for colums, the range is restricted to colume 3, so I use 2. \n",
    "arr2x2[:,2]"
   ]
  },
  {
   "cell_type": "code",
   "execution_count": 94,
   "id": "74d26e65-51c4-438e-a5ca-dc964c087961",
   "metadata": {},
   "outputs": [
    {
     "data": {
      "text/plain": [
       "array([[3, 0, 8]])"
      ]
     },
     "execution_count": 94,
     "metadata": {},
     "output_type": "execute_result"
    }
   ],
   "source": [
    "arr2x2[:1] # to grab first row"
   ]
  },
  {
   "cell_type": "code",
   "execution_count": 95,
   "id": "f689e74e-2cf1-4165-a4cb-96364fb35887",
   "metadata": {},
   "outputs": [
    {
     "data": {
      "text/plain": [
       "array([[ 3,  0,  8],\n",
       "       [ 2,  1, -8]])"
      ]
     },
     "execution_count": 95,
     "metadata": {},
     "output_type": "execute_result"
    }
   ],
   "source": [
    "arr2x2[:2] # to grab first 2 rows"
   ]
  },
  {
   "cell_type": "code",
   "execution_count": 97,
   "id": "7efb02bd-a235-4846-a41d-c5fafb08f947",
   "metadata": {},
   "outputs": [
    {
     "data": {
      "text/plain": [
       "array([ 3,  2, 38])"
      ]
     },
     "execution_count": 97,
     "metadata": {},
     "output_type": "execute_result"
    }
   ],
   "source": [
    "arr2x2[:,0] # to grab first column"
   ]
  },
  {
   "cell_type": "code",
   "execution_count": 98,
   "id": "38fa0db9-11e7-4a49-9a18-ab8ced60573e",
   "metadata": {},
   "outputs": [
    {
     "data": {
      "text/plain": [
       "array([[ 3,  0],\n",
       "       [ 2,  1],\n",
       "       [38,  0]])"
      ]
     },
     "execution_count": 98,
     "metadata": {},
     "output_type": "execute_result"
    }
   ],
   "source": [
    "arr2x2[:,:2] # to grab first 2 column"
   ]
  },
  {
   "cell_type": "code",
   "execution_count": 99,
   "id": "11abe7f1-84be-47ac-bb11-069bea33950b",
   "metadata": {},
   "outputs": [
    {
     "data": {
      "text/plain": [
       "array([ 2,  1, -8])"
      ]
     },
     "execution_count": 99,
     "metadata": {},
     "output_type": "execute_result"
    }
   ],
   "source": [
    "# to grab the middle row\n",
    "arr2x2[1,:]"
   ]
  },
  {
   "cell_type": "code",
   "execution_count": 105,
   "id": "7481278e-28f6-496a-8266-8b844e85c726",
   "metadata": {},
   "outputs": [
    {
     "name": "stdout",
     "output_type": "stream",
     "text": [
      "[ 2 55 78 12 97 94 35  7  6 39]\n",
      "[False  True  True False  True  True  True False False  True]\n",
      "[55 78 97 94 35 39]\n",
      "[ 2 55 78 12 97 94 35  7  6 39]\n"
     ]
    }
   ],
   "source": [
    "# Conditional array\n",
    "# you can output the a list of boolean values by putting a whole array under the condition\n",
    "# for example\n",
    "newRandArr = np.random.randint(1, 101, 10)\n",
    "print(newRandArr)\n",
    "meetConditionArr = newRandArr >= 30\n",
    "print(meetConditionArr)\n",
    "# using the \"meetConditionArr\" to filter out the elements meet the condition\n",
    "print(newRandArr[meetConditionArr])\n",
    "# the original array is not affected\n",
    "print(newRandArr)\n"
   ]
  },
  {
   "cell_type": "code",
   "execution_count": 106,
   "id": "5c156763-099e-48bd-954d-32f74ec8620e",
   "metadata": {},
   "outputs": [
    {
     "name": "stdout",
     "output_type": "stream",
     "text": [
      "[55 78 97 94 35 39]\n"
     ]
    }
   ],
   "source": [
    "# or you can do it in one go\n",
    "print(newRandArr[newRandArr >= 30])"
   ]
  },
  {
   "cell_type": "code",
   "execution_count": 107,
   "id": "9ad522a6-84ca-4866-9a0a-6ea816d7e3cd",
   "metadata": {},
   "outputs": [
    {
     "data": {
      "text/plain": [
       "array([[ 1,  2,  3,  4],\n",
       "       [ 5,  6,  7,  8],\n",
       "       [ 9, 10, 11, 12],\n",
       "       [13, 14, 15, 16]])"
      ]
     },
     "execution_count": 107,
     "metadata": {},
     "output_type": "execute_result"
    }
   ],
   "source": [
    "# you can create a 2 dimension array from 1 dimension\n",
    "np.arange(1,17).reshape(4,4)"
   ]
  },
  {
   "cell_type": "code",
   "execution_count": 108,
   "id": "dd14475c-92bb-48fb-b673-94ac074404a1",
   "metadata": {},
   "outputs": [],
   "source": [
    "# Operation +,-,*,/ fo array"
   ]
  },
  {
   "cell_type": "code",
   "execution_count": 111,
   "id": "722b0a9a-8ec7-4c2e-9b3a-cca6b02903a7",
   "metadata": {},
   "outputs": [
    {
     "data": {
      "text/plain": [
       "array([[1., 1., 1., 1., 1.],\n",
       "       [1., 1., 1., 1., 1.]])"
      ]
     },
     "execution_count": 111,
     "metadata": {},
     "output_type": "execute_result"
    }
   ],
   "source": [
    "mat2x5 = np.ones((2,5))\n",
    "mat2x5"
   ]
  },
  {
   "cell_type": "code",
   "execution_count": 112,
   "id": "e4006eb0-9a24-4a31-a7b2-fad7790a7348",
   "metadata": {},
   "outputs": [
    {
     "data": {
      "text/plain": [
       "array([[2., 2., 2., 2., 2.],\n",
       "       [2., 2., 2., 2., 2.]])"
      ]
     },
     "execution_count": 112,
     "metadata": {},
     "output_type": "execute_result"
    }
   ],
   "source": [
    "newMat25 = mat2x5 * 2\n",
    "newMat25"
   ]
  },
  {
   "cell_type": "code",
   "execution_count": 113,
   "id": "d9b11515-1ed5-4aec-962a-d73cb70c92a7",
   "metadata": {},
   "outputs": [
    {
     "data": {
      "text/plain": [
       "array([[1., 1., 1., 1., 1.],\n",
       "       [1., 1., 1., 1., 1.]])"
      ]
     },
     "execution_count": 113,
     "metadata": {},
     "output_type": "execute_result"
    }
   ],
   "source": [
    "mat2x5"
   ]
  },
  {
   "cell_type": "code",
   "execution_count": 114,
   "id": "f670bd16-b511-433b-be23-b3f988dc6aba",
   "metadata": {},
   "outputs": [
    {
     "data": {
      "text/plain": [
       "array([[3., 3., 3., 3., 3.],\n",
       "       [3., 3., 3., 3., 3.]])"
      ]
     },
     "execution_count": 114,
     "metadata": {},
     "output_type": "execute_result"
    }
   ],
   "source": [
    "result1 = mat2x5 + newMat25\n",
    "result1"
   ]
  },
  {
   "cell_type": "code",
   "execution_count": 116,
   "id": "23d703a7-1964-4a4b-97fd-cc2c81fea8a8",
   "metadata": {},
   "outputs": [
    {
     "data": {
      "text/plain": [
       "array([[-2., -2., -2., -2., -2.],\n",
       "       [-2., -2., -2., -2., -2.]])"
      ]
     },
     "execution_count": 116,
     "metadata": {},
     "output_type": "execute_result"
    }
   ],
   "source": [
    "result2 = result1 - 5 * np.ones((2,5))\n",
    "result2                                "
   ]
  },
  {
   "cell_type": "code",
   "execution_count": 117,
   "id": "6f9e1b81-60cd-4fa6-a220-6b826fcd34d8",
   "metadata": {},
   "outputs": [
    {
     "data": {
      "text/plain": [
       "array([[-0.5, -0.5, -0.5, -0.5, -0.5],\n",
       "       [-0.5, -0.5, -0.5, -0.5, -0.5]])"
      ]
     },
     "execution_count": 117,
     "metadata": {},
     "output_type": "execute_result"
    }
   ],
   "source": [
    "result3 = result2/4\n",
    "result3"
   ]
  },
  {
   "cell_type": "code",
   "execution_count": 119,
   "id": "8b50bc4e-fa54-4bc5-8d2e-883ea9356dcd",
   "metadata": {},
   "outputs": [
    {
     "data": {
      "text/plain": [
       "array([[0.1, 0.1, 0.1, 0.1, 0.1],\n",
       "       [0.1, 0.1, 0.1, 0.1, 0.1]])"
      ]
     },
     "execution_count": 119,
     "metadata": {},
     "output_type": "execute_result"
    }
   ],
   "source": [
    "result4 = result3 + 0.6\n",
    "result4"
   ]
  },
  {
   "cell_type": "code",
   "execution_count": 120,
   "id": "8dfd2b8d-a0b2-4742-8616-7913e57f604d",
   "metadata": {},
   "outputs": [
    {
     "data": {
      "text/plain": [
       "array([[-0.5, -0.5, -0.5, -0.5, -0.5],\n",
       "       [-0.5, -0.5, -0.5, -0.5, -0.5]])"
      ]
     },
     "execution_count": 120,
     "metadata": {},
     "output_type": "execute_result"
    }
   ],
   "source": [
    "result3\n"
   ]
  },
  {
   "cell_type": "code",
   "execution_count": 121,
   "id": "ccdda01d-c5f6-4580-97bb-e967b362d8f8",
   "metadata": {},
   "outputs": [
    {
     "data": {
      "text/plain": [
       "array([[-5., -5., -5., -5., -5.],\n",
       "       [-5., -5., -5., -5., -5.]])"
      ]
     },
     "execution_count": 121,
     "metadata": {},
     "output_type": "execute_result"
    }
   ],
   "source": [
    "result5 = result3/result4\n",
    "result5"
   ]
  },
  {
   "cell_type": "code",
   "execution_count": 123,
   "id": "874c5c04-c42c-4934-a080-4d3aaf359dbf",
   "metadata": {},
   "outputs": [
    {
     "data": {
      "text/plain": [
       "array([[-0.5, -0.5, -0.5, -0.5, -0.5],\n",
       "       [-0.5, -0.5, -0.5, -0.5, -0.5]])"
      ]
     },
     "execution_count": 123,
     "metadata": {},
     "output_type": "execute_result"
    }
   ],
   "source": [
    "result6 = result5 * result4\n",
    "result6"
   ]
  },
  {
   "cell_type": "code",
   "execution_count": 124,
   "id": "09f2252c-2c55-42e9-8209-d12652827c62",
   "metadata": {},
   "outputs": [],
   "source": [
    "### note the nultiplcation of the array is on element by elemnt basis. So it is not matrix multipication"
   ]
  },
  {
   "cell_type": "code",
   "execution_count": 125,
   "id": "da3b7d23-c7df-4650-ab05-fde32562627c",
   "metadata": {},
   "outputs": [],
   "source": [
    "### some math function acts on the whole array\n"
   ]
  },
  {
   "cell_type": "code",
   "execution_count": 127,
   "id": "caf979ac-e573-4f51-a56d-74deff2a1780",
   "metadata": {},
   "outputs": [
    {
     "name": "stdout",
     "output_type": "stream",
     "text": [
      "[[9. 9. 9.]\n",
      " [9. 9. 9.]\n",
      " [9. 9. 9.]]\n",
      "[[3. 3. 3.]\n",
      " [3. 3. 3.]\n",
      " [3. 3. 3.]]\n"
     ]
    }
   ],
   "source": [
    "testArr = np.ones((3,3)) * 9\n",
    "print(testArr)\n",
    "print(np.sqrt(testArr))"
   ]
  },
  {
   "cell_type": "code",
   "execution_count": 128,
   "id": "5634fdb6-0f9c-4ad4-8243-1cc7ac09757b",
   "metadata": {},
   "outputs": [
    {
     "name": "stdout",
     "output_type": "stream",
     "text": [
      "9.0\n"
     ]
    }
   ],
   "source": [
    "print(np.max(testArr))"
   ]
  },
  {
   "cell_type": "code",
   "execution_count": 129,
   "id": "a6ea92cf-52c1-4da7-b1b4-02fd027750b4",
   "metadata": {},
   "outputs": [
    {
     "name": "stdout",
     "output_type": "stream",
     "text": [
      "[[0.41211849 0.41211849 0.41211849]\n",
      " [0.41211849 0.41211849 0.41211849]\n",
      " [0.41211849 0.41211849 0.41211849]]\n"
     ]
    }
   ],
   "source": [
    "print(np.sin(testArr))"
   ]
  },
  {
   "cell_type": "code",
   "execution_count": 130,
   "id": "452e7795-fc6e-4bac-aec5-03ef94b0ed28",
   "metadata": {},
   "outputs": [
    {
     "data": {
      "text/plain": [
       "array([[81., 81., 81.],\n",
       "       [81., 81., 81.],\n",
       "       [81., 81., 81.]])"
      ]
     },
     "execution_count": 130,
     "metadata": {},
     "output_type": "execute_result"
    }
   ],
   "source": [
    "testArr ** 2"
   ]
  },
  {
   "cell_type": "code",
   "execution_count": null,
   "id": "8019f980-ae2e-42eb-bcb3-bd926ad16201",
   "metadata": {},
   "outputs": [],
   "source": []
  }
 ],
 "metadata": {
  "kernelspec": {
   "display_name": "Python 3 (ipykernel)",
   "language": "python",
   "name": "python3"
  },
  "language_info": {
   "codemirror_mode": {
    "name": "ipython",
    "version": 3
   },
   "file_extension": ".py",
   "mimetype": "text/x-python",
   "name": "python",
   "nbconvert_exporter": "python",
   "pygments_lexer": "ipython3",
   "version": "3.12.1"
  }
 },
 "nbformat": 4,
 "nbformat_minor": 5
}
